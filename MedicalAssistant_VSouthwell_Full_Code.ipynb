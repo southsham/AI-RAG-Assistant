{
  "cells": [
    {
      "cell_type": "markdown",
      "metadata": {
        "id": "3CNz35ia6Bz3"
      },
      "source": [
        "## Problem Statement"
      ]
    },
    {
      "cell_type": "markdown",
      "metadata": {
        "id": "CkRbhMJH6Bz3"
      },
      "source": [
        "### Business Context"
      ]
    },
    {
      "cell_type": "markdown",
      "metadata": {
        "id": "3PBm5xaj6Bz3"
      },
      "source": [
        "The healthcare industry is rapidly evolving, with professionals facing increasing challenges in managing vast volumes of medical data while delivering accurate and timely diagnoses. The need for quick access to comprehensive, reliable, and up-to-date medical knowledge is critical for improving patient outcomes and ensuring informed decision-making in a fast-paced environment.\n",
        "\n",
        "Healthcare professionals often encounter information overload, struggling to sift through extensive research and data to create accurate diagnoses and treatment plans. This challenge is amplified by the need for efficiency, particularly in emergencies, where time-sensitive decisions are vital. Furthermore, access to trusted, current medical information from renowned manuals and research papers is essential for maintaining high standards of care.\n",
        "\n",
        "To address these challenges, healthcare centers can focus on integrating systems that streamline access to medical knowledge, provide tools to support quick decision-making, and enhance efficiency. Leveraging centralized knowledge platforms and ensuring healthcare providers have continuous access to reliable resources can significantly improve patient care and operational effectiveness."
      ]
    },
    {
      "cell_type": "markdown",
      "metadata": {
        "id": "1xDPsqvO6Bz5"
      },
      "source": [
        "**Common Questions to Answer**\n",
        "\n",
        "1. **Critical Care Protocols:** \"What is the protocol for managing sepsis in a critical care unit?\"\n",
        "\n",
        "2. **General Surgery:** \"What are the common symptoms for appendicitis, and can it be cured via medicine? If not, what surgical procedure should be followed to treat it?\"\n",
        "\n",
        "3. **Dermatology:** \"What are the effective treatments or solutions for addressing sudden patchy hair loss, commonly seen as localized bald spots on the scalp, and what could be the possible causes behind it?\"\n",
        "\n",
        "4. **Neurology:** \"What treatments are recommended for a person who has sustained a physical injury to brain tissue, resulting in temporary or permanent impairment of brain function?\"\n"
      ]
    },
    {
      "cell_type": "markdown",
      "metadata": {
        "id": "CARPKFwm6Bz4"
      },
      "source": [
        "### Objective"
      ]
    },
    {
      "cell_type": "markdown",
      "metadata": {
        "id": "dOElOEXq6Bz4"
      },
      "source": [
        "As an AI specialist, your task is to develop a RAG-based AI solution using renowned medical manuals to address healthcare challenges. The objective is to **understand** issues like information overload, **apply** AI techniques to streamline decision-making, **analyze** its impact on diagnostics and patient outcomes, **evaluate** its potential to standardize care practices, and **create** a functional prototype demonstrating its feasibility and effectiveness."
      ]
    },
    {
      "cell_type": "markdown",
      "metadata": {
        "id": "by9EvAnkSpZf"
      },
      "source": [
        "### Data Description"
      ]
    },
    {
      "cell_type": "markdown",
      "metadata": {
        "id": "Jw5LievCSru2"
      },
      "source": [
        "The **Merck Manuals** are medical references published by the American pharmaceutical company Merck & Co., that cover a wide range of medical topics, including disorders, tests, diagnoses, and drugs. The manuals have been published since 1899, when Merck & Co. was still a subsidiary of the German company Merck.\n",
        "\n",
        "The manual is provided as a PDF with over 4,000 pages divided into 23 sections."
      ]
    },
    {
      "cell_type": "markdown",
      "metadata": {
        "id": "lnwETBOE6Bz5"
      },
      "source": [
        "## Installing and Importing Necessary Libraries and Dependencies"
      ]
    },
    {
      "cell_type": "code",
      "execution_count": null,
      "metadata": {
        "id": "0VOckDVkWGei"
      },
      "outputs": [],
      "source": [
        "# Install required libraries\n",
        "!pip install -q langchain_community==0.3.27 \\\n",
        "              langchain==0.3.27 \\\n",
        "              chromadb==1.0.15 \\\n",
        "              pymupdf==1.26.3 \\\n",
        "              tiktoken==0.9.0 \\\n",
        "              ragas==0.3.0 \\\n",
        "              datasets==4.0.0 \\\n",
        "              evaluate==0.4.5 \\\n",
        "              langchain_openai==0.3.30 \\\n",
        "              pypdf \\\n",
        "              langchain_huggingface"
      ]
    },
    {
      "cell_type": "markdown",
      "metadata": {
        "id": "y2EEYodpoUhW"
      },
      "source": [
        "**Note**:\n",
        "- After running the above cell, kindly restart the runtime (for Google Colab) or notebook kernel (for Jupyter Notebook), and run all cells sequentially from the next cell.\n",
        "- On executing the above line of code, you might see a warning regarding package dependencies. This error message can be ignored as the above code ensures that all necessary libraries and their dependencies are maintained to successfully execute the code in ***this notebook***."
      ]
    },
    {
      "cell_type": "code",
      "execution_count": null,
      "metadata": {
        "id": "dhNoYV5VoX5K"
      },
      "outputs": [],
      "source": [
        "# Import core libraries\n",
        "import os                                                                       # Interact with the operating system (e.g., set environment variables)\n",
        "import json                                                                     # Read/write JSON data\n",
        "\n",
        "# Import libraries for working with PDFs and OpenAI\n",
        "from langchain.document_loaders import PyMuPDFLoader                            # Load and extract text from PDF files\n",
        "from openai import OpenAI                                                       # Access OpenAI's models and services\n",
        "\n",
        "# Import libraries for processing dataframes and text\n",
        "import tiktoken                                                                 # Tokenizer used for counting and splitting text for models\n",
        "import pandas as pd                                                             # Load, manipulate, and analyze tabular data\n",
        "\n",
        "# Import LangChain components for data loading, chunking, embedding, and vector DBs\n",
        "from langchain.text_splitter import RecursiveCharacterTextSplitter              # Break text into overlapping chunks for processing\n",
        "from langchain.embeddings.openai import OpenAIEmbeddings                        # Create vector embeddings using OpenAI's models  # type: ignore\n",
        "from langchain.vectorstores import Chroma                                       # Store and search vector embeddings using Chroma DB  # type: ignore\n",
        "\n",
        "# Import components to run evaluation on RAG pipeline outputs\n",
        "from ragas import evaluate\n",
        "from ragas.metrics import (\n",
        "    Faithfulness,\n",
        "    AnswerRelevancy,\n",
        "    LLMContextPrecisionWithoutReference,\n",
        ")\n",
        "from datasets import Dataset                                                    # Used to structure the input (questions, answers, contexts etc.) in tabular format\n",
        "from langchain_openai import ChatOpenAI"
      ]
    },
    {
      "cell_type": "code",
      "execution_count": null,
      "metadata": {
        "id": "r_BSblk-htWv"
      },
      "outputs": [],
      "source": [
        "import json\n",
        "import os\n",
        "\n",
        "# Assuming your config file is named 'config.json'\n",
        "config_file_path = '/content/config.json'\n"
      ]
    },
    {
      "cell_type": "code",
      "execution_count": null,
      "metadata": {
        "id": "-hyUSjRsRoLQ"
      },
      "outputs": [],
      "source": [
        "# Load the JSON file and extract values\n",
        "file_name = '/content/config.json'                                                       # Name of the configuration file\n",
        "with open(file_name, 'r') as file:                                              # Open the config file in read mode\n",
        "    config = json.load(file)                                                    # Load the JSON content as a dictionary\n",
        "    API_KEY = config.get(\"OPENAI_API_KEY\")                                             # Extract the API key from the config\n",
        "    OPENAI_API_BASE = config.get(\"OPENAI_API_BASE\")                             # Extract the OpenAI base URL from the config\n",
        "\n",
        "# Store API credentials in environment variables\n",
        "os.environ['OPENAI_API_KEY'] = API_KEY                                          # Set API key as environment variable\n",
        "os.environ[\"OPENAI_BASE_URL\"] = OPENAI_API_BASE                                 # Set API base URL as environment variable\n",
        "\n",
        "# Initialize OpenAI client\n",
        "client = OpenAI()"
      ]
    },
    {
      "cell_type": "markdown",
      "metadata": {
        "id": "TtZWqj0wFTS1"
      },
      "source": [
        "## Question Answering using LLM"
      ]
    },
    {
      "cell_type": "markdown",
      "metadata": {
        "id": "Uq1lhM4WFTS2"
      },
      "source": [
        "#### Downloading and Loading the model"
      ]
    },
    {
      "cell_type": "code",
      "execution_count": null,
      "metadata": {
        "id": "fT2VYkuBrM8M"
      },
      "outputs": [],
      "source": [
        "# Define a function to get a response\n",
        "def response(user_prompt, max_tokens=500, temperature=0.3, top_p=0.95):\n",
        "    # Create a chat completion using the OpenAI client\n",
        "    completion = client.chat.completions.create(\n",
        "        model=\"gpt-4o-mini\",                                                     # Specify the model to use\n",
        "        messages=[\n",
        "            {\"role\": \"user\", \"content\": user_prompt}                            # User prompt is the input/query to respond to\n",
        "        ],\n",
        "        max_tokens=max_tokens,                                                  # Max number of tokens to generate in the response\n",
        "        temperature=temperature,                                                # Controls randomness in output\n",
        "        top_p=top_p                                                             # Controls diversity via nucleus sampling\n",
        "    )\n",
        "    return completion.choices[0].message.content"
      ]
    },
    {
      "cell_type": "markdown",
      "metadata": {
        "id": "K8YgK91SFjVY"
      },
      "source": [
        "### Question 1: What is the protocol for managing sepsis in a critical care unit?"
      ]
    },
    {
      "cell_type": "code",
      "execution_count": null,
      "metadata": {
        "colab": {
          "base_uri": "https://localhost:8080/",
          "height": 122
        },
        "id": "-JLIVmpPQH0f",
        "outputId": "0efafdac-2371-4c07-89a4-b94a0a3d29aa"
      },
      "outputs": [
        {
          "output_type": "execute_result",
          "data": {
            "text/plain": [
              "\"Managing sepsis in a critical care unit involves a systematic approach that includes early recognition, prompt intervention, and ongoing monitoring. Here’s a general protocol for managing sepsis:\\n\\n### 1. **Early Recognition**\\n   - **Identify Symptoms:** Look for signs of infection (fever, chills, tachycardia, tachypnea) and signs of organ dysfunction (altered mental status, hypotension, oliguria).\\n   - **Use Screening Tools:** Utilize sepsis screening tools or protocols to identify patients at risk.\\n\\n### 2. **Initial Assessment**\\n   - **Vital Signs Monitoring:** Continuous monitoring of heart rate, blood pressure, respiratory rate, and temperature.\\n   - **Laboratory Tests:** Obtain blood cultures, complete blood count, lactate levels, renal function tests, and liver function tests.\\n   - **Imaging Studies:** Consider imaging to identify the source of infection if clinically indicated.\\n\\n### 3. **Sepsis Bundle (within the first hour)**\\n   - **Administer IV Fluids:** Start with a rapid infusion of crystalloids (e.g., normal saline or lactated Ringer's) to restore intravascular volume.\\n   - **Obtain Cultures:** Collect blood cultures before starting antibiotics, if possible.\\n   - **Initiate Broad-Spectrum Antibiotics:** Administer appropriate antibiotics as soon as possible, ideally within the first hour of recognition.\\n   - **Monitor Lactate Levels:** Measure lactate levels to assess tissue perfusion and guide further treatment.\\n   - **Administer Vasopressors:** If hypotension persists despite adequate fluid resuscitation, initiate vasopressors (e.g., norepinephrine) to maintain mean arterial pressure (MAP) ≥ 65 mmHg.\\n\\n### 4. **Ongoing Management**\\n   - **Reassess Fluid Status:** Continuously evaluate the patient’s response to fluid resuscitation and adjust as necessary.\\n   - **Monitor Organ Function:** Regularly assess renal function, liver function, and other organ systems.\\n   - **Source Control:** Identify and manage the source of infection (e.g., drainage of abscess, removal of infected devices).\\n   - **Nutritional Support:** Initiate enteral nutrition as soon as feasible.\\n   - **Glucose Control:** Maintain blood glucose levels within a target range (often < 180 mg/dL).\\n\\n### 5. **Advanced Monitoring and Support**\\n   - **Use of Invasive Monitoring:** Consider central venous pressure\""
            ],
            "application/vnd.google.colaboratory.intrinsic+json": {
              "type": "string"
            }
          },
          "metadata": {},
          "execution_count": 6
        }
      ],
      "source": [
        "# Define the question\n",
        "question_1 = \"What is the protocol for managing sepsis in a critical care unit?\"\n",
        "base_prompt_response_1 = response(question_1)\n",
        "base_prompt_response_1"
      ]
    },
    {
      "cell_type": "markdown",
      "metadata": {
        "id": "J6yxICeVFjVc"
      },
      "source": [
        "### Question 2: What are the common symptoms for appendicitis, and can it be cured via medicine? If not, what surgical procedure should be followed to treat it?"
      ]
    },
    {
      "cell_type": "code",
      "execution_count": null,
      "metadata": {
        "colab": {
          "base_uri": "https://localhost:8080/",
          "height": 122
        },
        "id": "BdiHRgEqQIP9",
        "outputId": "5d9a17b2-c47c-42a3-e141-760a92a47cdf"
      },
      "outputs": [
        {
          "output_type": "execute_result",
          "data": {
            "text/plain": [
              "\"Common symptoms of appendicitis include:\\n\\n1. **Abdominal Pain**: Typically starts around the navel and then moves to the lower right abdomen.\\n2. **Nausea and Vomiting**: Often follows the onset of abdominal pain.\\n3. **Loss of Appetite**: A decrease in desire to eat.\\n4. **Fever**: Mild fever may be present.\\n5. **Constipation or Diarrhea**: Some patients may experience changes in bowel habits.\\n6. **Bloating**: A feeling of fullness or swelling in the abdomen.\\n\\nAppendicitis is generally not treatable with medication alone. The standard treatment for appendicitis is surgical removal of the appendix, a procedure known as **appendectomy**. This can be performed as:\\n\\n- **Open Appendectomy**: A larger incision is made in the lower right abdomen.\\n- **Laparoscopic Appendectomy**: A minimally invasive procedure using small incisions and a camera.\\n\\nIn some cases, if the appendicitis is diagnosed early and is uncomplicated, antibiotics may be used as an initial treatment, but surgery is usually still recommended to prevent recurrence. If you suspect appendicitis, it's important to seek medical attention promptly, as untreated appendicitis can lead to serious complications, such as a ruptured appendix.\""
            ],
            "application/vnd.google.colaboratory.intrinsic+json": {
              "type": "string"
            }
          },
          "metadata": {},
          "execution_count": 7
        }
      ],
      "source": [
        "question_2 = \"What are the common symptoms for appendicitis, and can it be cured via medicine? If not, what surgical procedure should be followed to treat it?\"\n",
        "base_prompt_response_2 = response(question_2)\n",
        "base_prompt_response_2"
      ]
    },
    {
      "cell_type": "markdown",
      "metadata": {
        "id": "oflaoOGiFjVd"
      },
      "source": [
        "### Question 3: What are the effective treatments or solutions for addressing sudden patchy hair loss, commonly seen as localized bald spots on the scalp, and what could be the possible causes behind it?"
      ]
    },
    {
      "cell_type": "code",
      "execution_count": null,
      "metadata": {
        "colab": {
          "base_uri": "https://localhost:8080/",
          "height": 122
        },
        "id": "N-mx9yboQIt-",
        "outputId": "3544c86e-4b8a-4c7b-bf1b-d8c4fe176db4"
      },
      "outputs": [
        {
          "output_type": "execute_result",
          "data": {
            "text/plain": [
              "'Sudden patchy hair loss, often referred to as alopecia areata, can manifest as localized bald spots on the scalp and can be distressing. Here are some effective treatments and solutions, as well as potential causes for this condition:\\n\\n### Possible Causes:\\n1. **Autoimmune Response**: The body’s immune system mistakenly attacks hair follicles, leading to hair loss.\\n2. **Genetics**: A family history of alopecia or other autoimmune conditions may increase susceptibility.\\n3. **Stress**: Physical or emotional stress can trigger hair loss in some individuals.\\n4. **Hormonal Changes**: Hormonal fluctuations, such as those occurring during pregnancy or menopause, can contribute.\\n5. **Nutritional Deficiencies**: Lack of essential nutrients, such as iron, zinc, or vitamin D, may play a role.\\n6. **Infections**: Fungal infections of the scalp, such as tinea capitis, can lead to hair loss.\\n7. **Medical Conditions**: Other autoimmune diseases, thyroid disorders, or skin conditions can also be associated with hair loss.\\n\\n### Effective Treatments:\\n1. **Topical Corticosteroids**: These are often the first line of treatment and can help reduce inflammation and promote hair regrowth.\\n2. **Minoxidil (Rogaine)**: An over-the-counter topical solution that can stimulate hair growth and is sometimes used in conjunction with other treatments.\\n3. **Intralesional Corticosteroid Injections**: Injections directly into the bald patches can be effective for more severe cases.\\n4. **Immunotherapy**: Treatments that involve applying substances like diphencyprone (DPCP) to the scalp to provoke an allergic reaction, which may stimulate hair regrowth.\\n5. **Oral Corticosteroids**: In cases of extensive hair loss, a doctor may prescribe oral steroids to help reduce inflammation.\\n6. **JAK Inhibitors**: Medications like tofacitinib and ruxolitinib have shown promise in clinical trials for treating alopecia areata.\\n7. **Nutritional Supplements**: Addressing deficiencies with supplements (e.g., biotin, zinc, vitamin D) may support hair health.\\n8. **Lifestyle Modifications**: Stress management techniques, such as yoga, meditation, and regular exercise, can help reduce triggers.\\n9. **Hairpieces or Wigs**: For those who experience significant hair loss, cosmetic solutions can'"
            ],
            "application/vnd.google.colaboratory.intrinsic+json": {
              "type": "string"
            }
          },
          "metadata": {},
          "execution_count": 8
        }
      ],
      "source": [
        "question_3 = \"What are the effective treatments or solutions for addressing sudden patchy hair loss, commonly seen as localized bald spots on the scalp, and what could be the possible causes behind it?\"\n",
        "base_prompt_response_3 = response(question_3)\n",
        "base_prompt_response_3"
      ]
    },
    {
      "cell_type": "markdown",
      "metadata": {
        "id": "WUUqY4FbFjVe"
      },
      "source": [
        "### Question 4:  What treatments are recommended for a person who has sustained a physical injury to brain tissue, resulting in temporary or permanent impairment of brain function?"
      ]
    },
    {
      "cell_type": "code",
      "execution_count": null,
      "metadata": {
        "colab": {
          "base_uri": "https://localhost:8080/",
          "height": 122
        },
        "id": "TEsVMaKaQJzh",
        "outputId": "cc86fdb3-b79a-4d86-cb5d-07748f3dbb14"
      },
      "outputs": [
        {
          "output_type": "execute_result",
          "data": {
            "text/plain": [
              "\"Treatment for a person who has sustained a physical injury to brain tissue, such as a traumatic brain injury (TBI), can vary widely depending on the severity of the injury, the specific areas of the brain affected, and the individual's overall health. Here are some commonly recommended treatments and approaches:\\n\\n1. **Emergency Care**: \\n   - Immediate medical attention is crucial. This may involve stabilizing the patient, ensuring adequate oxygenation, and managing intracranial pressure.\\n\\n2. **Medication**:\\n   - **Analgesics**: To manage pain.\\n   - **Anticonvulsants**: To prevent seizures, which can occur after a brain injury.\\n   - **Diuretics**: To reduce swelling in the brain.\\n   - **Corticosteroids**: To decrease inflammation in certain cases.\\n\\n3. **Surgery**:\\n   - In cases of severe injury, surgery may be necessary to remove blood clots (hematomas), repair skull fractures, or relieve pressure on the brain.\\n\\n4. **Rehabilitation**:\\n   - **Physical Therapy**: To improve mobility and strength.\\n   - **Occupational Therapy**: To assist with daily living activities and regain independence.\\n   - **Speech and Language Therapy**: To address communication difficulties and swallowing issues.\\n   - **Neuropsychological Therapy**: To help with cognitive rehabilitation, including memory, attention, and problem-solving skills.\\n\\n5. **Psychological Support**:\\n   - Counseling or therapy to address emotional and psychological effects, such as depression, anxiety, or post-traumatic stress disorder (PTSD).\\n\\n6. **Lifestyle Modifications**:\\n   - Encouraging a healthy diet, regular exercise, and adequate sleep to support recovery.\\n   - Avoiding alcohol and drugs that can impair brain function.\\n\\n7. **Supportive Care**:\\n   - Involving family and caregivers in the rehabilitation process to provide support and encouragement.\\n\\n8. **Long-term Management**:\\n   - Regular follow-ups with healthcare providers to monitor recovery and manage any ongoing symptoms or complications.\\n\\n9. **Assistive Devices**:\\n   - Depending on the nature of the impairment, devices such as wheelchairs, communication aids, or adaptive tools may be recommended.\\n\\n10. **Education and Resources**:\\n    - Providing information and resources to the patient and family about the injury, recovery process, and available support services.\\n\\nThe treatment plan should be individualized, taking into account the specific needs and circumstances of the person affected. Collaboration among a\""
            ],
            "application/vnd.google.colaboratory.intrinsic+json": {
              "type": "string"
            }
          },
          "metadata": {},
          "execution_count": 9
        }
      ],
      "source": [
        "question_4 = \"What treatments are recommended for a person who has sustained a physical injury to brain tissue, resulting in temporary or permanent impairment of brain function?\"\n",
        "base_prompt_response_4 = response(question_4)\n",
        "base_prompt_response_4"
      ]
    },
    {
      "cell_type": "code",
      "execution_count": null,
      "metadata": {
        "colab": {
          "base_uri": "https://localhost:8080/",
          "height": 175
        },
        "id": "MYLVG-rjvPhX",
        "outputId": "b3407f86-6186-4af0-830d-2e442d88bfde"
      },
      "outputs": [
        {
          "output_type": "execute_result",
          "data": {
            "text/plain": [
              "                                           questions  \\\n",
              "0  What is the protocol for managing sepsis in a ...   \n",
              "1  What are the common symptoms for appendicitis,...   \n",
              "2  What are the effective treatments or solutions...   \n",
              "3  What treatments are recommended for a person w...   \n",
              "\n",
              "                               base_prompt_responses  \n",
              "0  Managing sepsis in a critical care unit involv...  \n",
              "1  Common symptoms of appendicitis include:\\n\\n1....  \n",
              "2  Sudden patchy hair loss, often referred to as ...  \n",
              "3  Treatment for a person who has sustained a phy...  "
            ],
            "text/html": [
              "\n",
              "  <div id=\"df-a7d90ea8-ffa1-48c3-998d-859d98030d3b\" class=\"colab-df-container\">\n",
              "    <div>\n",
              "<style scoped>\n",
              "    .dataframe tbody tr th:only-of-type {\n",
              "        vertical-align: middle;\n",
              "    }\n",
              "\n",
              "    .dataframe tbody tr th {\n",
              "        vertical-align: top;\n",
              "    }\n",
              "\n",
              "    .dataframe thead th {\n",
              "        text-align: right;\n",
              "    }\n",
              "</style>\n",
              "<table border=\"1\" class=\"dataframe\">\n",
              "  <thead>\n",
              "    <tr style=\"text-align: right;\">\n",
              "      <th></th>\n",
              "      <th>questions</th>\n",
              "      <th>base_prompt_responses</th>\n",
              "    </tr>\n",
              "  </thead>\n",
              "  <tbody>\n",
              "    <tr>\n",
              "      <th>0</th>\n",
              "      <td>What is the protocol for managing sepsis in a ...</td>\n",
              "      <td>Managing sepsis in a critical care unit involv...</td>\n",
              "    </tr>\n",
              "    <tr>\n",
              "      <th>1</th>\n",
              "      <td>What are the common symptoms for appendicitis,...</td>\n",
              "      <td>Common symptoms of appendicitis include:\\n\\n1....</td>\n",
              "    </tr>\n",
              "    <tr>\n",
              "      <th>2</th>\n",
              "      <td>What are the effective treatments or solutions...</td>\n",
              "      <td>Sudden patchy hair loss, often referred to as ...</td>\n",
              "    </tr>\n",
              "    <tr>\n",
              "      <th>3</th>\n",
              "      <td>What treatments are recommended for a person w...</td>\n",
              "      <td>Treatment for a person who has sustained a phy...</td>\n",
              "    </tr>\n",
              "  </tbody>\n",
              "</table>\n",
              "</div>\n",
              "    <div class=\"colab-df-buttons\">\n",
              "\n",
              "  <div class=\"colab-df-container\">\n",
              "    <button class=\"colab-df-convert\" onclick=\"convertToInteractive('df-a7d90ea8-ffa1-48c3-998d-859d98030d3b')\"\n",
              "            title=\"Convert this dataframe to an interactive table.\"\n",
              "            style=\"display:none;\">\n",
              "\n",
              "  <svg xmlns=\"http://www.w3.org/2000/svg\" height=\"24px\" viewBox=\"0 -960 960 960\">\n",
              "    <path d=\"M120-120v-720h720v720H120Zm60-500h600v-160H180v160Zm220 220h160v-160H400v160Zm0 220h160v-160H400v160ZM180-400h160v-160H180v160Zm440 0h160v-160H620v160ZM180-180h160v-160H180v160Zm440 0h160v-160H620v160Z\"/>\n",
              "  </svg>\n",
              "    </button>\n",
              "\n",
              "  <style>\n",
              "    .colab-df-container {\n",
              "      display:flex;\n",
              "      gap: 12px;\n",
              "    }\n",
              "\n",
              "    .colab-df-convert {\n",
              "      background-color: #E8F0FE;\n",
              "      border: none;\n",
              "      border-radius: 50%;\n",
              "      cursor: pointer;\n",
              "      display: none;\n",
              "      fill: #1967D2;\n",
              "      height: 32px;\n",
              "      padding: 0 0 0 0;\n",
              "      width: 32px;\n",
              "    }\n",
              "\n",
              "    .colab-df-convert:hover {\n",
              "      background-color: #E2EBFA;\n",
              "      box-shadow: 0px 1px 2px rgba(60, 64, 67, 0.3), 0px 1px 3px 1px rgba(60, 64, 67, 0.15);\n",
              "      fill: #174EA6;\n",
              "    }\n",
              "\n",
              "    .colab-df-buttons div {\n",
              "      margin-bottom: 4px;\n",
              "    }\n",
              "\n",
              "    [theme=dark] .colab-df-convert {\n",
              "      background-color: #3B4455;\n",
              "      fill: #D2E3FC;\n",
              "    }\n",
              "\n",
              "    [theme=dark] .colab-df-convert:hover {\n",
              "      background-color: #434B5C;\n",
              "      box-shadow: 0px 1px 3px 1px rgba(0, 0, 0, 0.15);\n",
              "      filter: drop-shadow(0px 1px 2px rgba(0, 0, 0, 0.3));\n",
              "      fill: #FFFFFF;\n",
              "    }\n",
              "  </style>\n",
              "\n",
              "    <script>\n",
              "      const buttonEl =\n",
              "        document.querySelector('#df-a7d90ea8-ffa1-48c3-998d-859d98030d3b button.colab-df-convert');\n",
              "      buttonEl.style.display =\n",
              "        google.colab.kernel.accessAllowed ? 'block' : 'none';\n",
              "\n",
              "      async function convertToInteractive(key) {\n",
              "        const element = document.querySelector('#df-a7d90ea8-ffa1-48c3-998d-859d98030d3b');\n",
              "        const dataTable =\n",
              "          await google.colab.kernel.invokeFunction('convertToInteractive',\n",
              "                                                    [key], {});\n",
              "        if (!dataTable) return;\n",
              "\n",
              "        const docLinkHtml = 'Like what you see? Visit the ' +\n",
              "          '<a target=\"_blank\" href=https://colab.research.google.com/notebooks/data_table.ipynb>data table notebook</a>'\n",
              "          + ' to learn more about interactive tables.';\n",
              "        element.innerHTML = '';\n",
              "        dataTable['output_type'] = 'display_data';\n",
              "        await google.colab.output.renderOutput(dataTable, element);\n",
              "        const docLink = document.createElement('div');\n",
              "        docLink.innerHTML = docLinkHtml;\n",
              "        element.appendChild(docLink);\n",
              "      }\n",
              "    </script>\n",
              "  </div>\n",
              "\n",
              "\n",
              "    <div id=\"df-d36fe17d-716a-46f6-8a07-967fda9926cb\">\n",
              "      <button class=\"colab-df-quickchart\" onclick=\"quickchart('df-d36fe17d-716a-46f6-8a07-967fda9926cb')\"\n",
              "                title=\"Suggest charts\"\n",
              "                style=\"display:none;\">\n",
              "\n",
              "<svg xmlns=\"http://www.w3.org/2000/svg\" height=\"24px\"viewBox=\"0 0 24 24\"\n",
              "     width=\"24px\">\n",
              "    <g>\n",
              "        <path d=\"M19 3H5c-1.1 0-2 .9-2 2v14c0 1.1.9 2 2 2h14c1.1 0 2-.9 2-2V5c0-1.1-.9-2-2-2zM9 17H7v-7h2v7zm4 0h-2V7h2v10zm4 0h-2v-4h2v4z\"/>\n",
              "    </g>\n",
              "</svg>\n",
              "      </button>\n",
              "\n",
              "<style>\n",
              "  .colab-df-quickchart {\n",
              "      --bg-color: #E8F0FE;\n",
              "      --fill-color: #1967D2;\n",
              "      --hover-bg-color: #E2EBFA;\n",
              "      --hover-fill-color: #174EA6;\n",
              "      --disabled-fill-color: #AAA;\n",
              "      --disabled-bg-color: #DDD;\n",
              "  }\n",
              "\n",
              "  [theme=dark] .colab-df-quickchart {\n",
              "      --bg-color: #3B4455;\n",
              "      --fill-color: #D2E3FC;\n",
              "      --hover-bg-color: #434B5C;\n",
              "      --hover-fill-color: #FFFFFF;\n",
              "      --disabled-bg-color: #3B4455;\n",
              "      --disabled-fill-color: #666;\n",
              "  }\n",
              "\n",
              "  .colab-df-quickchart {\n",
              "    background-color: var(--bg-color);\n",
              "    border: none;\n",
              "    border-radius: 50%;\n",
              "    cursor: pointer;\n",
              "    display: none;\n",
              "    fill: var(--fill-color);\n",
              "    height: 32px;\n",
              "    padding: 0;\n",
              "    width: 32px;\n",
              "  }\n",
              "\n",
              "  .colab-df-quickchart:hover {\n",
              "    background-color: var(--hover-bg-color);\n",
              "    box-shadow: 0 1px 2px rgba(60, 64, 67, 0.3), 0 1px 3px 1px rgba(60, 64, 67, 0.15);\n",
              "    fill: var(--button-hover-fill-color);\n",
              "  }\n",
              "\n",
              "  .colab-df-quickchart-complete:disabled,\n",
              "  .colab-df-quickchart-complete:disabled:hover {\n",
              "    background-color: var(--disabled-bg-color);\n",
              "    fill: var(--disabled-fill-color);\n",
              "    box-shadow: none;\n",
              "  }\n",
              "\n",
              "  .colab-df-spinner {\n",
              "    border: 2px solid var(--fill-color);\n",
              "    border-color: transparent;\n",
              "    border-bottom-color: var(--fill-color);\n",
              "    animation:\n",
              "      spin 1s steps(1) infinite;\n",
              "  }\n",
              "\n",
              "  @keyframes spin {\n",
              "    0% {\n",
              "      border-color: transparent;\n",
              "      border-bottom-color: var(--fill-color);\n",
              "      border-left-color: var(--fill-color);\n",
              "    }\n",
              "    20% {\n",
              "      border-color: transparent;\n",
              "      border-left-color: var(--fill-color);\n",
              "      border-top-color: var(--fill-color);\n",
              "    }\n",
              "    30% {\n",
              "      border-color: transparent;\n",
              "      border-left-color: var(--fill-color);\n",
              "      border-top-color: var(--fill-color);\n",
              "      border-right-color: var(--fill-color);\n",
              "    }\n",
              "    40% {\n",
              "      border-color: transparent;\n",
              "      border-right-color: var(--fill-color);\n",
              "      border-top-color: var(--fill-color);\n",
              "    }\n",
              "    60% {\n",
              "      border-color: transparent;\n",
              "      border-right-color: var(--fill-color);\n",
              "    }\n",
              "    80% {\n",
              "      border-color: transparent;\n",
              "      border-right-color: var(--fill-color);\n",
              "      border-bottom-color: var(--fill-color);\n",
              "    }\n",
              "    90% {\n",
              "      border-color: transparent;\n",
              "      border-bottom-color: var(--fill-color);\n",
              "    }\n",
              "  }\n",
              "</style>\n",
              "\n",
              "      <script>\n",
              "        async function quickchart(key) {\n",
              "          const quickchartButtonEl =\n",
              "            document.querySelector('#' + key + ' button');\n",
              "          quickchartButtonEl.disabled = true;  // To prevent multiple clicks.\n",
              "          quickchartButtonEl.classList.add('colab-df-spinner');\n",
              "          try {\n",
              "            const charts = await google.colab.kernel.invokeFunction(\n",
              "                'suggestCharts', [key], {});\n",
              "          } catch (error) {\n",
              "            console.error('Error during call to suggestCharts:', error);\n",
              "          }\n",
              "          quickchartButtonEl.classList.remove('colab-df-spinner');\n",
              "          quickchartButtonEl.classList.add('colab-df-quickchart-complete');\n",
              "        }\n",
              "        (() => {\n",
              "          let quickchartButtonEl =\n",
              "            document.querySelector('#df-d36fe17d-716a-46f6-8a07-967fda9926cb button');\n",
              "          quickchartButtonEl.style.display =\n",
              "            google.colab.kernel.accessAllowed ? 'block' : 'none';\n",
              "        })();\n",
              "      </script>\n",
              "    </div>\n",
              "\n",
              "    </div>\n",
              "  </div>\n"
            ],
            "application/vnd.google.colaboratory.intrinsic+json": {
              "type": "dataframe",
              "variable_name": "result_df",
              "summary": "{\n  \"name\": \"result_df\",\n  \"rows\": 4,\n  \"fields\": [\n    {\n      \"column\": \"questions\",\n      \"properties\": {\n        \"dtype\": \"string\",\n        \"num_unique_values\": 4,\n        \"samples\": [\n          \"What are the common symptoms for appendicitis, and can it be cured via medicine? If not, what surgical procedure should be followed to treat it?\",\n          \"What treatments are recommended for a person who has sustained a physical injury to brain tissue, resulting in temporary or permanent impairment of brain function?\",\n          \"What is the protocol for managing sepsis in a critical care unit?\"\n        ],\n        \"semantic_type\": \"\",\n        \"description\": \"\"\n      }\n    },\n    {\n      \"column\": \"base_prompt_responses\",\n      \"properties\": {\n        \"dtype\": \"string\",\n        \"num_unique_values\": 4,\n        \"samples\": [\n          \"Common symptoms of appendicitis include:\\n\\n1. **Abdominal Pain**: Typically starts around the navel and then moves to the lower right abdomen.\\n2. **Nausea and Vomiting**: Often follows the onset of abdominal pain.\\n3. **Loss of Appetite**: A decrease in desire to eat.\\n4. **Fever**: Mild fever may be present.\\n5. **Constipation or Diarrhea**: Some patients may experience changes in bowel habits.\\n6. **Bloating**: A feeling of fullness or swelling in the abdomen.\\n\\nAppendicitis is generally not treatable with medication alone. The standard treatment for appendicitis is surgical removal of the appendix, a procedure known as **appendectomy**. This can be performed as:\\n\\n- **Open Appendectomy**: A larger incision is made in the lower right abdomen.\\n- **Laparoscopic Appendectomy**: A minimally invasive procedure using small incisions and a camera.\\n\\nIn some cases, if the appendicitis is diagnosed early and is uncomplicated, antibiotics may be used as an initial treatment, but surgery is usually still recommended to prevent recurrence. If you suspect appendicitis, it's important to seek medical attention promptly, as untreated appendicitis can lead to serious complications, such as a ruptured appendix.\",\n          \"Treatment for a person who has sustained a physical injury to brain tissue, such as a traumatic brain injury (TBI), can vary widely depending on the severity of the injury, the specific areas of the brain affected, and the individual's overall health. Here are some commonly recommended treatments and approaches:\\n\\n1. **Emergency Care**: \\n   - Immediate medical attention is crucial. This may involve stabilizing the patient, ensuring adequate oxygenation, and managing intracranial pressure.\\n\\n2. **Medication**:\\n   - **Analgesics**: To manage pain.\\n   - **Anticonvulsants**: To prevent seizures, which can occur after a brain injury.\\n   - **Diuretics**: To reduce swelling in the brain.\\n   - **Corticosteroids**: To decrease inflammation in certain cases.\\n\\n3. **Surgery**:\\n   - In cases of severe injury, surgery may be necessary to remove blood clots (hematomas), repair skull fractures, or relieve pressure on the brain.\\n\\n4. **Rehabilitation**:\\n   - **Physical Therapy**: To improve mobility and strength.\\n   - **Occupational Therapy**: To assist with daily living activities and regain independence.\\n   - **Speech and Language Therapy**: To address communication difficulties and swallowing issues.\\n   - **Neuropsychological Therapy**: To help with cognitive rehabilitation, including memory, attention, and problem-solving skills.\\n\\n5. **Psychological Support**:\\n   - Counseling or therapy to address emotional and psychological effects, such as depression, anxiety, or post-traumatic stress disorder (PTSD).\\n\\n6. **Lifestyle Modifications**:\\n   - Encouraging a healthy diet, regular exercise, and adequate sleep to support recovery.\\n   - Avoiding alcohol and drugs that can impair brain function.\\n\\n7. **Supportive Care**:\\n   - Involving family and caregivers in the rehabilitation process to provide support and encouragement.\\n\\n8. **Long-term Management**:\\n   - Regular follow-ups with healthcare providers to monitor recovery and manage any ongoing symptoms or complications.\\n\\n9. **Assistive Devices**:\\n   - Depending on the nature of the impairment, devices such as wheelchairs, communication aids, or adaptive tools may be recommended.\\n\\n10. **Education and Resources**:\\n    - Providing information and resources to the patient and family about the injury, recovery process, and available support services.\\n\\nThe treatment plan should be individualized, taking into account the specific needs and circumstances of the person affected. Collaboration among a\",\n          \"Managing sepsis in a critical care unit involves a systematic approach that includes early recognition, prompt intervention, and ongoing monitoring. Here\\u2019s a general protocol for managing sepsis:\\n\\n### 1. **Early Recognition**\\n   - **Identify Symptoms:** Look for signs of infection (fever, chills, tachycardia, tachypnea) and signs of organ dysfunction (altered mental status, hypotension, oliguria).\\n   - **Use Screening Tools:** Utilize sepsis screening tools or protocols to identify patients at risk.\\n\\n### 2. **Initial Assessment**\\n   - **Vital Signs Monitoring:** Continuous monitoring of heart rate, blood pressure, respiratory rate, and temperature.\\n   - **Laboratory Tests:** Obtain blood cultures, complete blood count, lactate levels, renal function tests, and liver function tests.\\n   - **Imaging Studies:** Consider imaging to identify the source of infection if clinically indicated.\\n\\n### 3. **Sepsis Bundle (within the first hour)**\\n   - **Administer IV Fluids:** Start with a rapid infusion of crystalloids (e.g., normal saline or lactated Ringer's) to restore intravascular volume.\\n   - **Obtain Cultures:** Collect blood cultures before starting antibiotics, if possible.\\n   - **Initiate Broad-Spectrum Antibiotics:** Administer appropriate antibiotics as soon as possible, ideally within the first hour of recognition.\\n   - **Monitor Lactate Levels:** Measure lactate levels to assess tissue perfusion and guide further treatment.\\n   - **Administer Vasopressors:** If hypotension persists despite adequate fluid resuscitation, initiate vasopressors (e.g., norepinephrine) to maintain mean arterial pressure (MAP) \\u2265 65 mmHg.\\n\\n### 4. **Ongoing Management**\\n   - **Reassess Fluid Status:** Continuously evaluate the patient\\u2019s response to fluid resuscitation and adjust as necessary.\\n   - **Monitor Organ Function:** Regularly assess renal function, liver function, and other organ systems.\\n   - **Source Control:** Identify and manage the source of infection (e.g., drainage of abscess, removal of infected devices).\\n   - **Nutritional Support:** Initiate enteral nutrition as soon as feasible.\\n   - **Glucose Control:** Maintain blood glucose levels within a target range (often < 180 mg/dL).\\n\\n### 5. **Advanced Monitoring and Support**\\n   - **Use of Invasive Monitoring:** Consider central venous pressure\"\n        ],\n        \"semantic_type\": \"\",\n        \"description\": \"\"\n      }\n    }\n  ]\n}"
            }
          },
          "metadata": {},
          "execution_count": 10
        }
      ],
      "source": [
        "# Create the DataFrame\n",
        "result_df = pd.DataFrame({\n",
        "    \"questions\": [question_1, question_2, question_3, question_4],\n",
        "    \"base_prompt_responses\": [base_prompt_response_1, base_prompt_response_2, base_prompt_response_3, base_prompt_response_4]})\n",
        "\n",
        "# Display the DataFrame\n",
        "result_df.head()"
      ]
    },
    {
      "cell_type": "markdown",
      "metadata": {
        "id": "g5myZ5dOOefc"
      },
      "source": [
        "## Question Answering using LLM with Prompt Engineering"
      ]
    },
    {
      "cell_type": "markdown",
      "metadata": {
        "id": "Ura8Y_hgVtgn"
      },
      "source": [
        "**Note:**\n",
        "Attempting to make LLM responses faster, cheaper, and more reliable with a few small tweaks:\n",
        "1. Using a system prompt and a tight template.\n",
        "Giving the model clear constraints up front (concise, bullet points, cite guidelines). This should reduce tokens and improve consistency.\n",
        "2. Prefering the newer Responses API (lower overhead, more features)."
      ]
    },
    {
      "cell_type": "code",
      "execution_count": null,
      "metadata": {
        "id": "CdvjSgt-WE-K"
      },
      "outputs": [],
      "source": [
        "from openai import OpenAI, RateLimitError, APIStatusError\n",
        "import uuid, time\n",
        "\n",
        "PREFERRED_MODELS = [\"gpt-5-mini\", \"o4-mini\", \"gpt-4o\"]  # adjust order for your account\n",
        "\n",
        "SYSTEM = \"\"\"You are a critical-care assistant.\n",
        "Answer concisely in bullet points, structured by time window (0–1h, 1–6h, etc.),\n",
        "and include guideline sources if mentioned in the prompt. Do not give individualized medical advice.\"\"\"\n",
        "\n",
        "client = OpenAI(timeout=30)  # tweak if you truly see timeouts, e.g., 60\n",
        "\n",
        "def respond(prompt, max_output_tokens=350, temperature=0.2, top_p=0.95):\n",
        "    last_err = None\n",
        "    for model in PREFERRED_MODELS:\n",
        "        try:\n",
        "            r = client.with_options(timeout=30).responses.create(\n",
        "                model=model,\n",
        "                input=[{\"role\":\"system\",\"content\":SYSTEM},\n",
        "                       {\"role\":\"user\",\"content\":prompt}],\n",
        "                max_output_tokens=max_output_tokens,\n",
        "                temperature=temperature,\n",
        "                top_p=top_p,\n",
        "                extra_headers={\"Idempotency-Key\": str(uuid.uuid4())}\n",
        "            )\n",
        "            return r.output_text, model\n",
        "        except (RateLimitError, APIStatusError) as e:\n",
        "            last_err = e\n",
        "            # brief backoff before trying next model\n",
        "            time.sleep(1.2)\n",
        "            continue\n",
        "    # If all fail, re-raise the last error\n",
        "    raise last_err\n"
      ]
    },
    {
      "cell_type": "markdown",
      "metadata": {
        "id": "9Jg3r_LWOeff"
      },
      "source": [
        "### Question 1: What is the protocol for managing sepsis in a critical care unit?"
      ]
    },
    {
      "cell_type": "code",
      "execution_count": null,
      "metadata": {
        "id": "YqM4VMw5ROhX",
        "colab": {
          "base_uri": "https://localhost:8080/"
        },
        "outputId": "0cbdfafc-0801-4dfc-b017-6ccc2b8d1b77"
      },
      "outputs": [
        {
          "output_type": "stream",
          "name": "stdout",
          "text": [
            "('### 0–1 Hour\\n- **Sepsis Recognition:**\\n  - Use qSOFA: altered mentation, respiratory rate ≥22/min, systolic BP ≤100 mmHg.\\n  - Confirm with SOFA score increase ≥2 points.\\n- **Cultures:**\\n  - Obtain blood cultures before antibiotics if no significant delay.\\n- **Antibiotics:**\\n  - Administer broad-spectrum antibiotics within 1 hour.\\n- **Fluid Resuscitation:**\\n  - Initiate with 30 mL/kg of crystalloid (e.g., lactated Ringer’s or normal saline).\\n- **Lactate Monitoring:**\\n  - Measure lactate; remeasure if initial lactate >2 mmol/L.\\n\\n### 1–6 Hours\\n- **Vasopressors:**\\n  - Start norepinephrine if MAP <65 mmHg after fluids.\\n- **Lactate Monitoring:**\\n  - Monitor trends to guide resuscitation.\\n- **Source Control:**\\n  - Identify and control infection source (e.g., drainage, surgery).\\n- **Ventilation/Oxygenation:**\\n  - Target SpO2 ≥94%.\\n\\n### 6–24 Hours\\n- **Steroids:**\\n  - Consider hydrocortisone if hemodynamics remain unstable.\\n- **Glucose Control:**\\n  - Maintain blood glucose <180 mg/dL.\\n- **Escalation:**\\n  - Escalate care if no improvement or deterioration (e.g., consult specialists, consider ICU transfer).\\n\\n### Guidelines\\n- Follow Surviving Sepsis Campaign guidelines for detailed protocols.', 'gpt-4o')\n"
          ]
        }
      ],
      "source": [
        "prompt_1 = (\n",
        "    \"Outline the protocol for managing adult sepsis in a critical care unit. \"\n",
        "    \"Structure by time window (0–1h, 1–6h, 6–24h). \"\n",
        "    \"Include: sepsis recognition criteria, cultures, early antibiotics, fluid resuscitation (type & volumes), \"\n",
        "    \"vasopressors (first-line & targets), lactate monitoring, source control, ventilation/oxygenation targets, \"\n",
        "    \"steroids criteria, glucose control, and when to escalate. ~200 words.\"\n",
        ")\n",
        "\n",
        "answer1 = respond(prompt_1)\n",
        "print(answer1)"
      ]
    },
    {
      "cell_type": "markdown",
      "metadata": {
        "id": "iYpyw4HjOeff"
      },
      "source": [
        "### Question 2: What are the common symptoms for appendicitis, and can it be cured via medicine? If not, what surgical procedure should be followed to treat it?"
      ]
    },
    {
      "cell_type": "code",
      "execution_count": null,
      "metadata": {
        "id": "GXl09pFfRPBr",
        "colab": {
          "base_uri": "https://localhost:8080/"
        },
        "outputId": "6dedd71c-c065-48af-f61e-b50bff1b52ef"
      },
      "outputs": [
        {
          "output_type": "stream",
          "name": "stdout",
          "text": [
            "('**0–1h: Initial Assessment**\\n\\n- **Symptoms and Signs:**\\n  - Right lower quadrant abdominal pain\\n  - Nausea and vomiting\\n  - Anorexia\\n  - Fever\\n  - Rebound tenderness and guarding\\n\\n**1–6h: Diagnostic Evaluation**\\n\\n- **Imaging:**\\n  - Ultrasound: First-line in certain populations (e.g., pregnant women)\\n  - CT Scan: Preferred for adults, high sensitivity and specificity\\n\\n- **Lab Tests:**\\n  - Complete blood count (CBC): Leukocytosis\\n  - C-reactive protein (CRP): Elevated levels\\n\\n**6–12h: Treatment Decision**\\n\\n- **Medical Therapy:**\\n  - Antibiotics alone may be considered in uncomplicated cases\\n  - Not standard; typically reserved for non-surgical candidates\\n\\n- **Surgery Indications:**\\n  - Confirmed diagnosis of appendicitis\\n  - Complicated appendicitis (e.g., perforation, abscess)\\n\\n**12–24h: Surgical Approach**\\n\\n- **Appendectomy:**\\n  - Laparoscopic: Preferred due to faster recovery, less pain\\n  - Open: Considered in specific cases (e.g., extensive infection)\\n\\n**Post-Operative Care:**\\n\\n- Pain management\\n- Early mobilization\\n- Monitoring for complications (e.g., infection)\\n- Gradual reintroduction of diet\\n\\n**Guidelines:**\\n- Based on sources like the American College of Surgeons and Society of American Gastrointestinal and Endoscopic Surgeons.', 'gpt-4o')\n"
          ]
        }
      ],
      "source": [
        "prompt_2 = (\n",
        "    \"Summarize the standard clinical protocol for suspected acute appendicitis in adults. \"\n",
        "    \"Include: (1) common presenting symptoms and signs; (2) role of imaging/lab tests for diagnosis; \"\n",
        "    \"(3) whether medical therapy (e.g., antibiotics) alone is sufficient and in which cases; \"\n",
        "    \"(4) when surgery is necessary, and describe the standard surgical approach (open vs laparoscopic appendectomy); \"\n",
        "    \"(5) key post-operative care steps. Use bullet points, ~200 words.\"\n",
        ")\n",
        "answer2 = respond(prompt_2)\n",
        "print(answer2)\n"
      ]
    },
    {
      "cell_type": "markdown",
      "metadata": {
        "id": "dRp92JQZOeff"
      },
      "source": [
        "### Question 3: What are the effective treatments or solutions for addressing sudden patchy hair loss, commonly seen as localized bald spots on the scalp, and what could be the possible causes behind it?"
      ]
    },
    {
      "cell_type": "code",
      "execution_count": null,
      "metadata": {
        "id": "JOgATEpMRPve",
        "colab": {
          "base_uri": "https://localhost:8080/"
        },
        "outputId": "cc067c4f-4750-46e1-e38a-295ffed2092e"
      },
      "outputs": [
        {
          "output_type": "stream",
          "name": "stdout",
          "text": [
            "('### Common Causes and Differential Diagnoses\\n\\n- **Alopecia Areata:**\\n  - Autoimmune condition targeting hair follicles.\\n  - Often associated with other autoimmune disorders.\\n\\n- **Differential Diagnoses:**\\n  - **Tinea Capitis:** Fungal infection, often with scaling.\\n  - **Trichotillomania:** Hair-pulling disorder.\\n  - **Telogen Effluvium:** Stress-related hair shedding.\\n  - **Androgenetic Alopecia:** Pattern hair loss.\\n\\n### Recommended Diagnostic Evaluations\\n\\n- **Clinical Examination:**\\n  - Look for exclamation mark hairs, smooth patches.\\n  \\n- **Dermatological Evaluation:**\\n  - Dermoscopy to assess hair follicle health.\\n\\n- **Laboratory Tests:**\\n  - Thyroid function tests.\\n  - Autoimmune panel if other symptoms present.\\n\\n- **Scalp Biopsy:**\\n  - Consider if diagnosis is uncertain.\\n\\n### First-Line and Second-Line Treatment Options\\n\\n- **First-Line Treatments:**\\n  - **Topical Corticosteroids:** Reduce inflammation.\\n  - **Intralesional Corticosteroid Injections:** For localized patches.\\n\\n- **Second-Line Treatments:**\\n  - **Topical Immunotherapy:** Diphencyprone (DPCP) or squaric acid dibutylester (SADBE).\\n  - **Oral Corticosteroids:** Short-term use for extensive cases.\\n  - **Minoxidil:** Topical application to stimulate growth.\\n\\n- **Systemic Therapies:**\\n  - **JAK Inhibitors:** Emerging option for severe cases.\\n\\n### Supportive Measures\\n\\n- **Lifestyle:**\\n  - Stress management techniques.\\n  - Nutritional support with a balanced diet.\\n\\n', 'gpt-4o')\n"
          ]
        }
      ],
      "source": [
        "prompt_3 = (\n",
        "    \"Outline the causes, diagnosis, and management of sudden patchy hair loss on the scalp \"\n",
        "    \"(commonly seen as alopecia areata). \"\n",
        "    \"Structure the answer in sections: (1) common causes and differential diagnoses; \"\n",
        "    \"(2) recommended diagnostic evaluations; \"\n",
        "    \"(3) first-line and second-line treatment options (topical, oral, injections, systemic therapies); \"\n",
        "    \"(4) supportive measures such as lifestyle or cosmetic options. \"\n",
        "    \"Use concise bullet points, ~250 words.\"\n",
        ")\n",
        "answer3 = respond(prompt_3)\n",
        "print(answer3)"
      ]
    },
    {
      "cell_type": "markdown",
      "metadata": {
        "id": "AA45zwyUOefg"
      },
      "source": [
        "### Question 4:  What treatments are recommended for a person who has sustained a physical injury to brain tissue, resulting in temporary or permanent impairment of brain function?"
      ]
    },
    {
      "cell_type": "code",
      "execution_count": null,
      "metadata": {
        "id": "VA7G8FOnRQZY",
        "colab": {
          "base_uri": "https://localhost:8080/"
        },
        "outputId": "a02c7a67-af02-41df-b234-5a6228b87338"
      },
      "outputs": [
        {
          "output_type": "stream",
          "name": "stdout",
          "text": [
            "('## Acute Phase (Emergency/ICU)\\n\\n### Initial Stabilization (0–1h)\\n- **Airway, Breathing, Circulation (ABC):**\\n  - Ensure airway patency; consider intubation if GCS ≤ 8.\\n  - Maintain adequate oxygenation and ventilation.\\n  - Stabilize circulation; monitor blood pressure and heart rate.\\n\\n- **Intracranial Pressure (ICP) Control:**\\n  - Elevate head of bed to 30 degrees.\\n  - Administer osmotic therapy (e.g., mannitol or hypertonic saline) if needed.\\n\\n- **Imaging:**\\n  - Perform CT scan to assess for hematomas, contusions, or skull fractures.\\n\\n### Surgical Interventions (1–6h)\\n- **Decompression:**\\n  - Consider decompressive craniectomy for refractory ICP.\\n  \\n- **Hematoma Evacuation:**\\n  - Evacuate significant epidural or subdural hematomas.\\n\\n### Medical Management (1–24h)\\n- **Osmotic Therapy:**\\n  - Continue mannitol or hypertonic saline as needed for ICP control.\\n\\n- **Blood Pressure Targets:**\\n  - Maintain systolic BP > 100 mmHg (ages 50-69) or > 110 mmHg (ages 15-49, >70).\\n\\n- **Seizure Prophylaxis:**\\n  - Administer antiepileptic drugs (e.g., phenytoin) for seizure prevention.\\n\\n### Monitoring and Supportive Care (0–24h)\\n- **Neurological Monitoring:**\\n  - Regularly assess GCS and pupil response.\\n  \\n- **Supportive Care:**\\n  - Manage fluids,', 'gpt-4o')\n"
          ]
        }
      ],
      "source": [
        "prompt_4 = (\n",
        "    \"Summarize the general management of traumatic brain injury (TBI) in adults. \"\n",
        "    \"Divide into acute phase (emergency/ICU) vs long-term rehabilitation. \"\n",
        "    \"Include: initial stabilization (airway, breathing, circulation, ICP control, imaging), \"\n",
        "    \"surgical interventions (e.g., decompression, hematoma evacuation), \"\n",
        "    \"medical management (osmotic therapy, blood pressure targets, seizure prophylaxis), \"\n",
        "    \"monitoring and supportive care, \"\n",
        "    \"rehabilitation strategies (physiotherapy, occupational therapy, cognitive rehab), \"\n",
        "    \"and prognosis factors. Use a structured outline format, ~300 words.\"\n",
        ")\n",
        "answer4 = respond(prompt_4)\n",
        "print(answer4)"
      ]
    },
    {
      "cell_type": "code",
      "execution_count": null,
      "metadata": {
        "id": "swEn1ouYyV1Q",
        "colab": {
          "base_uri": "https://localhost:8080/",
          "height": 175
        },
        "outputId": "4d7ed50d-df6e-4786-fd21-77ae56ddc617"
      },
      "outputs": [
        {
          "output_type": "execute_result",
          "data": {
            "text/plain": [
              "                                             prompts  \\\n",
              "0  Outline the protocol for managing adult sepsis...   \n",
              "1  Summarize the standard clinical protocol for s...   \n",
              "2  Outline the causes, diagnosis, and management ...   \n",
              "3  Summarize the general management of traumatic ...   \n",
              "\n",
              "                               base_prompt_responses  \n",
              "0  (### 0–1 Hour\\n- **Sepsis Recognition:**\\n  - ...  \n",
              "1  (**0–1h: Initial Assessment**\\n\\n- **Symptoms ...  \n",
              "2  (### Common Causes and Differential Diagnoses\\...  \n",
              "3  (## Acute Phase (Emergency/ICU)\\n\\n### Initial...  "
            ],
            "text/html": [
              "\n",
              "  <div id=\"df-a9b953f5-9e19-49ff-9a28-eed737d04059\" class=\"colab-df-container\">\n",
              "    <div>\n",
              "<style scoped>\n",
              "    .dataframe tbody tr th:only-of-type {\n",
              "        vertical-align: middle;\n",
              "    }\n",
              "\n",
              "    .dataframe tbody tr th {\n",
              "        vertical-align: top;\n",
              "    }\n",
              "\n",
              "    .dataframe thead th {\n",
              "        text-align: right;\n",
              "    }\n",
              "</style>\n",
              "<table border=\"1\" class=\"dataframe\">\n",
              "  <thead>\n",
              "    <tr style=\"text-align: right;\">\n",
              "      <th></th>\n",
              "      <th>prompts</th>\n",
              "      <th>base_prompt_responses</th>\n",
              "    </tr>\n",
              "  </thead>\n",
              "  <tbody>\n",
              "    <tr>\n",
              "      <th>0</th>\n",
              "      <td>Outline the protocol for managing adult sepsis...</td>\n",
              "      <td>(### 0–1 Hour\\n- **Sepsis Recognition:**\\n  - ...</td>\n",
              "    </tr>\n",
              "    <tr>\n",
              "      <th>1</th>\n",
              "      <td>Summarize the standard clinical protocol for s...</td>\n",
              "      <td>(**0–1h: Initial Assessment**\\n\\n- **Symptoms ...</td>\n",
              "    </tr>\n",
              "    <tr>\n",
              "      <th>2</th>\n",
              "      <td>Outline the causes, diagnosis, and management ...</td>\n",
              "      <td>(### Common Causes and Differential Diagnoses\\...</td>\n",
              "    </tr>\n",
              "    <tr>\n",
              "      <th>3</th>\n",
              "      <td>Summarize the general management of traumatic ...</td>\n",
              "      <td>(## Acute Phase (Emergency/ICU)\\n\\n### Initial...</td>\n",
              "    </tr>\n",
              "  </tbody>\n",
              "</table>\n",
              "</div>\n",
              "    <div class=\"colab-df-buttons\">\n",
              "\n",
              "  <div class=\"colab-df-container\">\n",
              "    <button class=\"colab-df-convert\" onclick=\"convertToInteractive('df-a9b953f5-9e19-49ff-9a28-eed737d04059')\"\n",
              "            title=\"Convert this dataframe to an interactive table.\"\n",
              "            style=\"display:none;\">\n",
              "\n",
              "  <svg xmlns=\"http://www.w3.org/2000/svg\" height=\"24px\" viewBox=\"0 -960 960 960\">\n",
              "    <path d=\"M120-120v-720h720v720H120Zm60-500h600v-160H180v160Zm220 220h160v-160H400v160Zm0 220h160v-160H400v160ZM180-400h160v-160H180v160Zm440 0h160v-160H620v160ZM180-180h160v-160H180v160Zm440 0h160v-160H620v160Z\"/>\n",
              "  </svg>\n",
              "    </button>\n",
              "\n",
              "  <style>\n",
              "    .colab-df-container {\n",
              "      display:flex;\n",
              "      gap: 12px;\n",
              "    }\n",
              "\n",
              "    .colab-df-convert {\n",
              "      background-color: #E8F0FE;\n",
              "      border: none;\n",
              "      border-radius: 50%;\n",
              "      cursor: pointer;\n",
              "      display: none;\n",
              "      fill: #1967D2;\n",
              "      height: 32px;\n",
              "      padding: 0 0 0 0;\n",
              "      width: 32px;\n",
              "    }\n",
              "\n",
              "    .colab-df-convert:hover {\n",
              "      background-color: #E2EBFA;\n",
              "      box-shadow: 0px 1px 2px rgba(60, 64, 67, 0.3), 0px 1px 3px 1px rgba(60, 64, 67, 0.15);\n",
              "      fill: #174EA6;\n",
              "    }\n",
              "\n",
              "    .colab-df-buttons div {\n",
              "      margin-bottom: 4px;\n",
              "    }\n",
              "\n",
              "    [theme=dark] .colab-df-convert {\n",
              "      background-color: #3B4455;\n",
              "      fill: #D2E3FC;\n",
              "    }\n",
              "\n",
              "    [theme=dark] .colab-df-convert:hover {\n",
              "      background-color: #434B5C;\n",
              "      box-shadow: 0px 1px 3px 1px rgba(0, 0, 0, 0.15);\n",
              "      filter: drop-shadow(0px 1px 2px rgba(0, 0, 0, 0.3));\n",
              "      fill: #FFFFFF;\n",
              "    }\n",
              "  </style>\n",
              "\n",
              "    <script>\n",
              "      const buttonEl =\n",
              "        document.querySelector('#df-a9b953f5-9e19-49ff-9a28-eed737d04059 button.colab-df-convert');\n",
              "      buttonEl.style.display =\n",
              "        google.colab.kernel.accessAllowed ? 'block' : 'none';\n",
              "\n",
              "      async function convertToInteractive(key) {\n",
              "        const element = document.querySelector('#df-a9b953f5-9e19-49ff-9a28-eed737d04059');\n",
              "        const dataTable =\n",
              "          await google.colab.kernel.invokeFunction('convertToInteractive',\n",
              "                                                    [key], {});\n",
              "        if (!dataTable) return;\n",
              "\n",
              "        const docLinkHtml = 'Like what you see? Visit the ' +\n",
              "          '<a target=\"_blank\" href=https://colab.research.google.com/notebooks/data_table.ipynb>data table notebook</a>'\n",
              "          + ' to learn more about interactive tables.';\n",
              "        element.innerHTML = '';\n",
              "        dataTable['output_type'] = 'display_data';\n",
              "        await google.colab.output.renderOutput(dataTable, element);\n",
              "        const docLink = document.createElement('div');\n",
              "        docLink.innerHTML = docLinkHtml;\n",
              "        element.appendChild(docLink);\n",
              "      }\n",
              "    </script>\n",
              "  </div>\n",
              "\n",
              "\n",
              "    <div id=\"df-94600c4d-ee38-490d-bbac-a3d7813fe7be\">\n",
              "      <button class=\"colab-df-quickchart\" onclick=\"quickchart('df-94600c4d-ee38-490d-bbac-a3d7813fe7be')\"\n",
              "                title=\"Suggest charts\"\n",
              "                style=\"display:none;\">\n",
              "\n",
              "<svg xmlns=\"http://www.w3.org/2000/svg\" height=\"24px\"viewBox=\"0 0 24 24\"\n",
              "     width=\"24px\">\n",
              "    <g>\n",
              "        <path d=\"M19 3H5c-1.1 0-2 .9-2 2v14c0 1.1.9 2 2 2h14c1.1 0 2-.9 2-2V5c0-1.1-.9-2-2-2zM9 17H7v-7h2v7zm4 0h-2V7h2v10zm4 0h-2v-4h2v4z\"/>\n",
              "    </g>\n",
              "</svg>\n",
              "      </button>\n",
              "\n",
              "<style>\n",
              "  .colab-df-quickchart {\n",
              "      --bg-color: #E8F0FE;\n",
              "      --fill-color: #1967D2;\n",
              "      --hover-bg-color: #E2EBFA;\n",
              "      --hover-fill-color: #174EA6;\n",
              "      --disabled-fill-color: #AAA;\n",
              "      --disabled-bg-color: #DDD;\n",
              "  }\n",
              "\n",
              "  [theme=dark] .colab-df-quickchart {\n",
              "      --bg-color: #3B4455;\n",
              "      --fill-color: #D2E3FC;\n",
              "      --hover-bg-color: #434B5C;\n",
              "      --hover-fill-color: #FFFFFF;\n",
              "      --disabled-bg-color: #3B4455;\n",
              "      --disabled-fill-color: #666;\n",
              "  }\n",
              "\n",
              "  .colab-df-quickchart {\n",
              "    background-color: var(--bg-color);\n",
              "    border: none;\n",
              "    border-radius: 50%;\n",
              "    cursor: pointer;\n",
              "    display: none;\n",
              "    fill: var(--fill-color);\n",
              "    height: 32px;\n",
              "    padding: 0;\n",
              "    width: 32px;\n",
              "  }\n",
              "\n",
              "  .colab-df-quickchart:hover {\n",
              "    background-color: var(--hover-bg-color);\n",
              "    box-shadow: 0 1px 2px rgba(60, 64, 67, 0.3), 0 1px 3px 1px rgba(60, 64, 67, 0.15);\n",
              "    fill: var(--button-hover-fill-color);\n",
              "  }\n",
              "\n",
              "  .colab-df-quickchart-complete:disabled,\n",
              "  .colab-df-quickchart-complete:disabled:hover {\n",
              "    background-color: var(--disabled-bg-color);\n",
              "    fill: var(--disabled-fill-color);\n",
              "    box-shadow: none;\n",
              "  }\n",
              "\n",
              "  .colab-df-spinner {\n",
              "    border: 2px solid var(--fill-color);\n",
              "    border-color: transparent;\n",
              "    border-bottom-color: var(--fill-color);\n",
              "    animation:\n",
              "      spin 1s steps(1) infinite;\n",
              "  }\n",
              "\n",
              "  @keyframes spin {\n",
              "    0% {\n",
              "      border-color: transparent;\n",
              "      border-bottom-color: var(--fill-color);\n",
              "      border-left-color: var(--fill-color);\n",
              "    }\n",
              "    20% {\n",
              "      border-color: transparent;\n",
              "      border-left-color: var(--fill-color);\n",
              "      border-top-color: var(--fill-color);\n",
              "    }\n",
              "    30% {\n",
              "      border-color: transparent;\n",
              "      border-left-color: var(--fill-color);\n",
              "      border-top-color: var(--fill-color);\n",
              "      border-right-color: var(--fill-color);\n",
              "    }\n",
              "    40% {\n",
              "      border-color: transparent;\n",
              "      border-right-color: var(--fill-color);\n",
              "      border-top-color: var(--fill-color);\n",
              "    }\n",
              "    60% {\n",
              "      border-color: transparent;\n",
              "      border-right-color: var(--fill-color);\n",
              "    }\n",
              "    80% {\n",
              "      border-color: transparent;\n",
              "      border-right-color: var(--fill-color);\n",
              "      border-bottom-color: var(--fill-color);\n",
              "    }\n",
              "    90% {\n",
              "      border-color: transparent;\n",
              "      border-bottom-color: var(--fill-color);\n",
              "    }\n",
              "  }\n",
              "</style>\n",
              "\n",
              "      <script>\n",
              "        async function quickchart(key) {\n",
              "          const quickchartButtonEl =\n",
              "            document.querySelector('#' + key + ' button');\n",
              "          quickchartButtonEl.disabled = true;  // To prevent multiple clicks.\n",
              "          quickchartButtonEl.classList.add('colab-df-spinner');\n",
              "          try {\n",
              "            const charts = await google.colab.kernel.invokeFunction(\n",
              "                'suggestCharts', [key], {});\n",
              "          } catch (error) {\n",
              "            console.error('Error during call to suggestCharts:', error);\n",
              "          }\n",
              "          quickchartButtonEl.classList.remove('colab-df-spinner');\n",
              "          quickchartButtonEl.classList.add('colab-df-quickchart-complete');\n",
              "        }\n",
              "        (() => {\n",
              "          let quickchartButtonEl =\n",
              "            document.querySelector('#df-94600c4d-ee38-490d-bbac-a3d7813fe7be button');\n",
              "          quickchartButtonEl.style.display =\n",
              "            google.colab.kernel.accessAllowed ? 'block' : 'none';\n",
              "        })();\n",
              "      </script>\n",
              "    </div>\n",
              "\n",
              "    </div>\n",
              "  </div>\n"
            ],
            "application/vnd.google.colaboratory.intrinsic+json": {
              "type": "dataframe",
              "variable_name": "result_df2",
              "summary": "{\n  \"name\": \"result_df2\",\n  \"rows\": 4,\n  \"fields\": [\n    {\n      \"column\": \"prompts\",\n      \"properties\": {\n        \"dtype\": \"string\",\n        \"num_unique_values\": 4,\n        \"samples\": [\n          \"Summarize the standard clinical protocol for suspected acute appendicitis in adults. Include: (1) common presenting symptoms and signs; (2) role of imaging/lab tests for diagnosis; (3) whether medical therapy (e.g., antibiotics) alone is sufficient and in which cases; (4) when surgery is necessary, and describe the standard surgical approach (open vs laparoscopic appendectomy); (5) key post-operative care steps. Use bullet points, ~200 words.\",\n          \"Summarize the general management of traumatic brain injury (TBI) in adults. Divide into acute phase (emergency/ICU) vs long-term rehabilitation. Include: initial stabilization (airway, breathing, circulation, ICP control, imaging), surgical interventions (e.g., decompression, hematoma evacuation), medical management (osmotic therapy, blood pressure targets, seizure prophylaxis), monitoring and supportive care, rehabilitation strategies (physiotherapy, occupational therapy, cognitive rehab), and prognosis factors. Use a structured outline format, ~300 words.\",\n          \"Outline the protocol for managing adult sepsis in a critical care unit. Structure by time window (0\\u20131h, 1\\u20136h, 6\\u201324h). Include: sepsis recognition criteria, cultures, early antibiotics, fluid resuscitation (type & volumes), vasopressors (first-line & targets), lactate monitoring, source control, ventilation/oxygenation targets, steroids criteria, glucose control, and when to escalate. ~200 words.\"\n        ],\n        \"semantic_type\": \"\",\n        \"description\": \"\"\n      }\n    },\n    {\n      \"column\": \"base_prompt_responses\",\n      \"properties\": {\n        \"dtype\": \"string\",\n        \"num_unique_values\": 4,\n        \"samples\": [\n          [\n            \"**0\\u20131h: Initial Assessment**\\n\\n- **Symptoms and Signs:**\\n  - Right lower quadrant abdominal pain\\n  - Nausea and vomiting\\n  - Anorexia\\n  - Fever\\n  - Rebound tenderness and guarding\\n\\n**1\\u20136h: Diagnostic Evaluation**\\n\\n- **Imaging:**\\n  - Ultrasound: First-line in certain populations (e.g., pregnant women)\\n  - CT Scan: Preferred for adults, high sensitivity and specificity\\n\\n- **Lab Tests:**\\n  - Complete blood count (CBC): Leukocytosis\\n  - C-reactive protein (CRP): Elevated levels\\n\\n**6\\u201312h: Treatment Decision**\\n\\n- **Medical Therapy:**\\n  - Antibiotics alone may be considered in uncomplicated cases\\n  - Not standard; typically reserved for non-surgical candidates\\n\\n- **Surgery Indications:**\\n  - Confirmed diagnosis of appendicitis\\n  - Complicated appendicitis (e.g., perforation, abscess)\\n\\n**12\\u201324h: Surgical Approach**\\n\\n- **Appendectomy:**\\n  - Laparoscopic: Preferred due to faster recovery, less pain\\n  - Open: Considered in specific cases (e.g., extensive infection)\\n\\n**Post-Operative Care:**\\n\\n- Pain management\\n- Early mobilization\\n- Monitoring for complications (e.g., infection)\\n- Gradual reintroduction of diet\\n\\n**Guidelines:**\\n- Based on sources like the American College of Surgeons and Society of American Gastrointestinal and Endoscopic Surgeons.\",\n            \"gpt-4o\"\n          ],\n          [\n            \"## Acute Phase (Emergency/ICU)\\n\\n### Initial Stabilization (0\\u20131h)\\n- **Airway, Breathing, Circulation (ABC):**\\n  - Ensure airway patency; consider intubation if GCS \\u2264 8.\\n  - Maintain adequate oxygenation and ventilation.\\n  - Stabilize circulation; monitor blood pressure and heart rate.\\n\\n- **Intracranial Pressure (ICP) Control:**\\n  - Elevate head of bed to 30 degrees.\\n  - Administer osmotic therapy (e.g., mannitol or hypertonic saline) if needed.\\n\\n- **Imaging:**\\n  - Perform CT scan to assess for hematomas, contusions, or skull fractures.\\n\\n### Surgical Interventions (1\\u20136h)\\n- **Decompression:**\\n  - Consider decompressive craniectomy for refractory ICP.\\n  \\n- **Hematoma Evacuation:**\\n  - Evacuate significant epidural or subdural hematomas.\\n\\n### Medical Management (1\\u201324h)\\n- **Osmotic Therapy:**\\n  - Continue mannitol or hypertonic saline as needed for ICP control.\\n\\n- **Blood Pressure Targets:**\\n  - Maintain systolic BP > 100 mmHg (ages 50-69) or > 110 mmHg (ages 15-49, >70).\\n\\n- **Seizure Prophylaxis:**\\n  - Administer antiepileptic drugs (e.g., phenytoin) for seizure prevention.\\n\\n### Monitoring and Supportive Care (0\\u201324h)\\n- **Neurological Monitoring:**\\n  - Regularly assess GCS and pupil response.\\n  \\n- **Supportive Care:**\\n  - Manage fluids,\",\n            \"gpt-4o\"\n          ],\n          [\n            \"### 0\\u20131 Hour\\n- **Sepsis Recognition:**\\n  - Use qSOFA: altered mentation, respiratory rate \\u226522/min, systolic BP \\u2264100 mmHg.\\n  - Confirm with SOFA score increase \\u22652 points.\\n- **Cultures:**\\n  - Obtain blood cultures before antibiotics if no significant delay.\\n- **Antibiotics:**\\n  - Administer broad-spectrum antibiotics within 1 hour.\\n- **Fluid Resuscitation:**\\n  - Initiate with 30 mL/kg of crystalloid (e.g., lactated Ringer\\u2019s or normal saline).\\n- **Lactate Monitoring:**\\n  - Measure lactate; remeasure if initial lactate >2 mmol/L.\\n\\n### 1\\u20136 Hours\\n- **Vasopressors:**\\n  - Start norepinephrine if MAP <65 mmHg after fluids.\\n- **Lactate Monitoring:**\\n  - Monitor trends to guide resuscitation.\\n- **Source Control:**\\n  - Identify and control infection source (e.g., drainage, surgery).\\n- **Ventilation/Oxygenation:**\\n  - Target SpO2 \\u226594%.\\n\\n### 6\\u201324 Hours\\n- **Steroids:**\\n  - Consider hydrocortisone if hemodynamics remain unstable.\\n- **Glucose Control:**\\n  - Maintain blood glucose <180 mg/dL.\\n- **Escalation:**\\n  - Escalate care if no improvement or deterioration (e.g., consult specialists, consider ICU transfer).\\n\\n### Guidelines\\n- Follow Surviving Sepsis Campaign guidelines for detailed protocols.\",\n            \"gpt-4o\"\n          ]\n        ],\n        \"semantic_type\": \"\",\n        \"description\": \"\"\n      }\n    }\n  ]\n}"
            }
          },
          "metadata": {},
          "execution_count": 16
        }
      ],
      "source": [
        "# Create the DataFrame\n",
        "result_df2 = pd.DataFrame({\n",
        "    \"prompts\": [prompt_1, prompt_2, prompt_3, prompt_4],\n",
        "    \"base_prompt_responses\": [answer1, answer2, answer3, answer4]})\n",
        "\n",
        "# Display the DataFrame\n",
        "result_df2.head()"
      ]
    },
    {
      "cell_type": "markdown",
      "metadata": {
        "id": "t_O1PGdNO2M9"
      },
      "source": [
        "## Data Preparation for RAG"
      ]
    },
    {
      "cell_type": "markdown",
      "metadata": {
        "id": "uTpWESc53dL9"
      },
      "source": [
        "### Loading the Data"
      ]
    },
    {
      "cell_type": "code",
      "execution_count": null,
      "metadata": {
        "id": "URKS-CkhnX2g",
        "colab": {
          "base_uri": "https://localhost:8080/"
        },
        "outputId": "03c3320d-35b2-4004-a206-706309433e4d"
      },
      "outputs": [
        {
          "output_type": "stream",
          "name": "stdout",
          "text": [
            "Loaded 4114 pages.\n",
            "Sample metadata: {'producer': 'pdf-lib (https://github.com/Hopding/pdf-lib)', 'creator': 'Atop CHM to PDF Converter', 'creationdate': '2012-06-15T05:44:40+00:00', 'moddate': '2025-09-24T21:37:29+00:00', 'title': 'The Merck Manual of Diagnosis & Therapy, 19th Edition', 'source': '/content/medical_diagnosis_manual.pdf', 'total_pages': 4114, 'page': 0, 'page_label': 'i'}\n",
            "First 500 chars of page 1:\n",
            " vera@southwell.org\n",
            "EH7I9IQT5W\n",
            "This file is meant for personal use by vera@southwell.org only.\n",
            "Sharing or publishing the contents in part or full is liable for legal action.\n",
            "Total chunks: 19668\n",
            "Embedding with OpenAI (text-embedding-3-small)...\n"
          ]
        },
        {
          "output_type": "stream",
          "name": "stderr",
          "text": [
            "/tmp/ipython-input-3425374243.py:85: LangChainDeprecationWarning: Since Chroma 0.4.x the manual persistence method is no longer supported as docs are automatically persisted.\n",
            "  vectordb.persist()\n",
            "/tmp/ipython-input-3425374243.py:116: LangChainDeprecationWarning: The method `BaseRetriever.get_relevant_documents` was deprecated in langchain-core 0.1.46 and will be removed in 1.0. Use :meth:`~invoke` instead.\n",
            "  ctx_docs = retriever.get_relevant_documents(question)\n"
          ]
        },
        {
          "output_type": "stream",
          "name": "stdout",
          "text": [
            "✅ Indexed & persisted at: ./chroma_med_manual\n",
            "\n",
            "--- ANSWER ---\n",
            " Early management steps for suspected sepsis include:\n",
            "\n",
            "- **Recognition of Symptoms**: Look for signs such as tachypnea, hypotension, and mental status changes (page 1298).\n",
            "- **Immediate Antibiotic Administration**: Start antibiotics as soon as possible, ideally within 8 hours of presentation (page 2094).\n",
            "- **Fluid Resuscitation**: Provide supportive care with intravenous fluids to address hypotension and maintain perfusion (page 2094).\n",
            "- **Oxygen Support**: Administer supplemental oxygen for patients with hypoxemia (page 2094).\n",
            "- **Consider ICU Admission**: Patients requiring mechanical ventilation or those with unresponsive hypotension (systolic BP < 90 mm Hg) should be considered for ICU admission (page 2094).\n",
            "- **Cultures**: In neonates with suspected sepsis, initiate antibiotics after obtaining blood cultures (page 2994).\n",
            "\n",
            "These steps are crucial for managing suspected sepsis effectively and improving patient outcomes.\n",
            "\n",
            "--- SOURCES ---\n",
            "[1] source=/content/medical_diagnosis_manual.pdf page=2456\n",
            "[2] source=/content/medical_diagnosis_manual.pdf page=1298\n",
            "[3] source=/content/medical_diagnosis_manual.pdf page=2094\n",
            "[4] source=/content/medical_diagnosis_manual.pdf page=2994\n"
          ]
        }
      ],
      "source": [
        "# 0) Prereqs (run in a cell, once):\n",
        "# pip install -q \"langchain>=0.2.0\" langchain-community langchain-text-splitters \\\n",
        "#               langchain-openai langchain-huggingface chromadb pypdf python-dotenv \\\n",
        "#               sentence-transformers tiktoken tenacity\n",
        "\n",
        "import os, sys, time, json\n",
        "from typing import List\n",
        "from dotenv import load_dotenv\n",
        "load_dotenv()  # expects OPENAI_API_KEY in your .env (optional)\n",
        "\n",
        "# LangChain loaders/splitters\n",
        "from langchain_community.document_loaders import PyPDFLoader  # try PyMuPDFLoader if layout matters\n",
        "from langchain_text_splitters import RecursiveCharacterTextSplitter\n",
        "\n",
        "# Embeddings (OpenAI + HuggingFace)\n",
        "from langchain_openai import OpenAIEmbeddings\n",
        "from langchain_huggingface import HuggingFaceEmbeddings\n",
        "\n",
        "# Vector store\n",
        "from langchain_community.vectorstores import Chroma\n",
        "\n",
        "# LLM client (OpenAI)\n",
        "from openai import OpenAI\n",
        "client = OpenAI()  # uses env vars\n",
        "\n",
        "# Optional: retry helpers\n",
        "from tenacity import retry, stop_after_attempt, wait_exponential, retry_if_exception_type\n",
        "from openai import RateLimitError as OpenAIRateLimitError\n",
        "\n",
        "# ------------------------------\n",
        "# 1) Load your PDF (Data Overview)\n",
        "# ------------------------------\n",
        "pdf_path = \"/content/medical_diagnosis_manual.pdf\"\n",
        "docs = PyPDFLoader(pdf_path).load()\n",
        "\n",
        "print(f\"Loaded {len(docs)} pages.\")\n",
        "print(\"Sample metadata:\", docs[0].metadata)\n",
        "print(\"First 500 chars of page 1:\\n\", docs[0].page_content[:500])\n",
        "\n",
        "# ------------------------------\n",
        "# 2) Chunk the docs\n",
        "# ------------------------------\n",
        "splitter = RecursiveCharacterTextSplitter(\n",
        "    chunk_size=900,       # keep < 1k chars to fit in context better\n",
        "    chunk_overlap=150,\n",
        "    separators=[\"\\n\\n\", \"\\n\", \" \", \"\"]\n",
        ")\n",
        "chunks = splitter.split_documents(docs)\n",
        "print(f\"Total chunks: {len(chunks)}\")\n",
        "\n",
        "# ------------------------------\n",
        "# 3) Embeddings with fallback\n",
        "# ------------------------------\n",
        "persist_dir = \"./chroma_med_manual\"\n",
        "\n",
        "def get_openai_embeddings():\n",
        "    # Use a smaller, cheaper model; great for many RAG cases\n",
        "    return OpenAIEmbeddings(model=\"text-embedding-3-small\")\n",
        "\n",
        "def get_local_embeddings():\n",
        "    # Local free model; smaller but solid for RAG\n",
        "    # (If you want stronger: \"sentence-transformers/all-MiniLM-L12-v2\" or \"all-mpnet-base-v2\")\n",
        "    return HuggingFaceEmbeddings(model_name=\"sentence-transformers/all-MiniLM-L6-v2\")\n",
        "\n",
        "def try_build_chroma_with(embedding_fn):\n",
        "    return Chroma.from_documents(\n",
        "        documents=chunks,\n",
        "        embedding=embedding_fn,\n",
        "        persist_directory=persist_dir,\n",
        "    )\n",
        "\n",
        "# Try OpenAI first; on quota/429, fall back to local\n",
        "try:\n",
        "    print(\"Embedding with OpenAI (text-embedding-3-small)...\")\n",
        "    vectordb = try_build_chroma_with(get_openai_embeddings())\n",
        "except Exception as e:\n",
        "    # Detect common quota/rate-limit cases\n",
        "    msg = str(e)\n",
        "    if \"insufficient_quota\" in msg or \"429\" in msg or \"RateLimitError\" in msg:\n",
        "        print(\"OpenAI quota/rate limit hit. Falling back to local embeddings...\")\n",
        "        vectordb = try_build_chroma_with(get_local_embeddings())\n",
        "    else:\n",
        "        raise\n",
        "\n",
        "vectordb.persist()\n",
        "print(\"✅ Indexed & persisted at:\", persist_dir)\n",
        "\n",
        "# ------------------------------\n",
        "# 4) Retriever\n",
        "# ------------------------------\n",
        "retriever = vectordb.as_retriever(\n",
        "    search_type=\"mmr\",                # diverse results\n",
        "    search_kwargs={\"k\": 4, \"fetch_k\": 20}\n",
        ")\n",
        "\n",
        "# ------------------------------\n",
        "# 5) Response function (stuffing RAG)\n",
        "# ------------------------------\n",
        "SYSTEM = (\n",
        "    \"You are a clinical reference assistant. Use only the provided context to answer. \"\n",
        "    \"Be concise, use bullet points, and include page references from metadata when possible. \"\n",
        "    \"This is general information, not individualized medical advice.\"\n",
        ")\n",
        "\n",
        "def format_context(docs):\n",
        "    out = []\n",
        "    for i, d in enumerate(docs, 1):\n",
        "        meta = d.metadata or {}\n",
        "        page = meta.get(\"page\", \"NA\")\n",
        "        src = meta.get(\"source\", \"\")\n",
        "        out.append(f\"[{i}] (page {page}) {d.page_content}\")\n",
        "    return \"\\n\\n\".join(out)\n",
        "\n",
        "def llm_answer(question: str, max_output_tokens=350, temperature=0.2, top_p=0.95) -> str:\n",
        "    # 1) Retrieve\n",
        "    ctx_docs = retriever.get_relevant_documents(question)\n",
        "    context_str = format_context(ctx_docs)\n",
        "\n",
        "    # 2) Prompt\n",
        "    user_prompt = (\n",
        "        f\"Question: {question}\\n\\n\"\n",
        "        f\"Context (use ONLY this):\\n{context_str}\\n\\n\"\n",
        "        \"Answer in 150–250 words. If answer not in context, say 'Not found in provided context.'\"\n",
        "    )\n",
        "\n",
        "    # 3) Call LLM\n",
        "    r = client.chat.completions.create(\n",
        "        model=\"gpt-4o-mini\",\n",
        "        messages=[\n",
        "            {\"role\": \"system\", \"content\": SYSTEM},\n",
        "            {\"role\": \"user\", \"content\": user_prompt},\n",
        "        ],\n",
        "        max_tokens=max_output_tokens,\n",
        "        temperature=temperature,\n",
        "        top_p=top_p,\n",
        "    )\n",
        "    return r.choices[0].message.content, ctx_docs\n",
        "\n",
        "# ------------------------------\n",
        "# 6) Example query\n",
        "# ------------------------------\n",
        "q = \"Outline early management steps for suspected sepsis per this manual.\"\n",
        "answer, sources = llm_answer(q)\n",
        "print(\"\\n--- ANSWER ---\\n\", answer)\n",
        "print(\"\\n--- SOURCES ---\")\n",
        "for i, d in enumerate(sources, 1):\n",
        "    print(f\"[{i}] source={d.metadata.get('source')} page={d.metadata.get('page')}\")\n"
      ]
    },
    {
      "cell_type": "markdown",
      "metadata": {
        "id": "ffP1SRYbPQHN"
      },
      "source": [
        "## Question Answering using RAG"
      ]
    },
    {
      "cell_type": "markdown",
      "metadata": {
        "id": "dDhZWUYs0cy4"
      },
      "source": [
        "### Question 1: What is the protocol for managing sepsis in a critical care unit?"
      ]
    },
    {
      "cell_type": "code",
      "execution_count": null,
      "metadata": {
        "id": "d41WFi0e0cy5",
        "colab": {
          "base_uri": "https://localhost:8080/"
        },
        "outputId": "2071633a-d0cc-4736-c544-ecb93cdb1ce8"
      },
      "outputs": [
        {
          "output_type": "stream",
          "name": "stdout",
          "text": [
            "\n",
            "--- ANSWER ---\n",
            " - **Fluid Resuscitation**: Administer 0.9% normal saline until central venous pressure (CVP) reaches 8 mm Hg (10 cm H2O) or pulmonary artery occlusion pressure (PAOP) is adequate (page 2455).\n",
            "- **Oxygen Therapy**: Ensure adequate oxygenation (page 2455).\n",
            "- **Antibiotics**: Start broad-spectrum antibiotics, adjusting based on culture results (page 2455).\n",
            "- **Surgical Interventions**: Drain abscesses and excise necrotic tissue as necessary (page 2455).\n",
            "- **Blood Glucose Management**: Normalize blood glucose levels (page 2455).\n",
            "- **Corticosteroids**: Administer replacement-dose corticosteroids (page 2455).\n",
            "- **Monitoring**: Frequent monitoring of systemic pressure, central venous pressure (CVP), pulmonary artery occlusion pressure (PAOP), pulse oximetry, arterial blood gases (ABGs), blood glucose, lactate, electrolyte levels, renal function, and urine output is essential (page 2455).\n",
            "- **ICU Care**: Patients with septic shock should be treated in an Intensive Care Unit (ICU) (page 2455).\n",
            "\n",
            "These protocols aim to stabilize the patient and address the underlying causes of sepsis effectively.\n",
            "\n",
            "--- SOURCES ---\n",
            "[1] source=/content/medical_diagnosis_manual.pdf page=2456\n",
            "[2] source=/content/medical_diagnosis_manual.pdf page=2455\n",
            "[3] source=/content/medical_diagnosis_manual.pdf page=2400\n",
            "[4] source=/content/medical_diagnosis_manual.pdf page=2990\n"
          ]
        }
      ],
      "source": [
        "rag1, sources = llm_answer('What is the protocol for managing sepsis in a critical care unit per this document?')\n",
        "print(\"\\n--- ANSWER ---\\n\", rag1)\n",
        "print(\"\\n--- SOURCES ---\")\n",
        "for i, d in enumerate(sources, 1):\n",
        "    print(f\"[{i}] source={d.metadata.get('source')} page={d.metadata.get('page')}\")\n"
      ]
    },
    {
      "cell_type": "markdown",
      "metadata": {
        "id": "WI3-E-a50cy6"
      },
      "source": [
        "### Question 2: What are the common symptoms for appendicitis, and can it be cured via medicine? If not, what surgical procedure should be followed to treat it?"
      ]
    },
    {
      "cell_type": "code",
      "execution_count": null,
      "metadata": {
        "id": "iQNK3Jzr0cy6",
        "colab": {
          "base_uri": "https://localhost:8080/"
        },
        "outputId": "9cf6eb5e-3c0b-4247-9552-b417ed40a4c7"
      },
      "outputs": [
        {
          "output_type": "stream",
          "name": "stdout",
          "text": [
            "\n",
            "--- ANSWER ---\n",
            " **Common Symptoms of Appendicitis (Page 172):**\n",
            "- Abdominal pain\n",
            "- Anorexia\n",
            "- Abdominal tenderness\n",
            "\n",
            "**Treatment Options:**\n",
            "- **Surgical Removal:** Appendicitis is primarily treated through surgical removal of the appendix, known as an appendectomy.\n",
            "- **Non-Surgical Treatment:** About 80% of patients can be treated successfully without surgery using:\n",
            "  - Bed rest\n",
            "  - NPO (nothing by mouth)\n",
            "  - IV fluids\n",
            "  - IV antibiotics (e.g., ceftazidime and metronidazole)\n",
            "  - Percutaneous drainage for abscesses may be considered if symptoms improve.\n",
            "\n",
            "**Indications for Surgery (Page 252):**\n",
            "- Immediate surgery is required for:\n",
            "  - Free perforation\n",
            "  - General peritonitis\n",
            "  - Severe symptoms not responding to nonsurgical treatment within 48 hours\n",
            "  - Increasing pain, tenderness, and fever\n",
            "\n",
            "In summary, while some cases of appendicitis can be managed without surgery, surgical intervention is often necessary, especially in more severe cases.\n",
            "\n",
            "--- SOURCES ---\n",
            "[1] source=/content/medical_diagnosis_manual.pdf page=172\n",
            "[2] source=/content/medical_diagnosis_manual.pdf page=252\n",
            "[3] source=/content/medical_diagnosis_manual.pdf page=201\n",
            "[4] source=/content/medical_diagnosis_manual.pdf page=359\n"
          ]
        }
      ],
      "source": [
        "rag2, sources = llm_answer('Per this document, what are the common symptoms for appendicitis, and can it be cured via medicine? If not, what surgical procedure should be followed to treat it?')\n",
        "print(\"\\n--- ANSWER ---\\n\", rag2)\n",
        "print(\"\\n--- SOURCES ---\")\n",
        "for i, d in enumerate(sources, 1):\n",
        "    print(f\"[{i}] source={d.metadata.get('source')} page={d.metadata.get('page')}\")"
      ]
    },
    {
      "cell_type": "markdown",
      "metadata": {
        "id": "l-u14Sks0cy6"
      },
      "source": [
        "### Question 3: What are the effective treatments or solutions for addressing sudden patchy hair loss, commonly seen as localized bald spots on the scalp, and what could be the possible causes behind it?"
      ]
    },
    {
      "cell_type": "code",
      "execution_count": null,
      "metadata": {
        "id": "X5s0U10g0cy7",
        "colab": {
          "base_uri": "https://localhost:8080/"
        },
        "outputId": "33ef1358-dda5-4b2d-9e27-82719ff4683f"
      },
      "outputs": [
        {
          "output_type": "stream",
          "name": "stdout",
          "text": [
            "\n",
            "--- ANSWER ---\n",
            " **Effective Treatments for Sudden Patchy Hair Loss:**\n",
            "- **Alopecia Areata Treatments:**\n",
            "  - Topical corticosteroids\n",
            "  - Intralesional corticosteroids (e.g., triamcinolone acetonide)\n",
            "  - Systemic corticosteroids (for severe cases)\n",
            "  - Topical minoxidil\n",
            "  - Topical anthralin\n",
            "  - Topical immunotherapy (e.g., diphencyprone, squaric acid dibutylester)\n",
            "  - Psoralen plus ultraviolet A (PUVA) therapy (page 858)\n",
            "\n",
            "- **Traction Alopecia:**\n",
            "  - Elimination of physical traction or stress to the scalp (page 858)\n",
            "\n",
            "- **Tinea Capitis:**\n",
            "  - Topical or oral antifungals (page 858)\n",
            "\n",
            "**Possible Causes of Sudden Patchy Hair Loss:**\n",
            "- **Underlying Disorders:**\n",
            "  - Systemic illnesses (e.g., high fever, systemic lupus, endocrine disorders, nutritional deficiencies) (page 856)\n",
            "- **Other Causes:**\n",
            "  - Primary hair shaft abnormalities\n",
            "  - Autoimmune diseases\n",
            "  - Heavy metal poisoning\n",
            "  - Rare dermatologic conditions (page 856)\n",
            "- **Evaluation Considerations:**\n",
            "  - Onset and duration of hair loss\n",
            "  - Increased hair shedding\n",
            "  - Associated symptoms (e.g., pruritus, scaling)\n",
            "  - Hair care practices and recent exposures to stressors or toxins (page 856)\n",
            "\n",
            "--- SOURCES ---\n",
            "[1] source=/content/medical_diagnosis_manual.pdf page=858\n",
            "[2] source=/content/medical_diagnosis_manual.pdf page=803\n",
            "[3] source=/content/medical_diagnosis_manual.pdf page=855\n",
            "[4] source=/content/medical_diagnosis_manual.pdf page=856\n"
          ]
        }
      ],
      "source": [
        "rag3, sources = llm_answer('Per this document, what are the effective treatments or solutions for addressing sudden patchy hair loss, commonly seen as localized bald spots on the scalp, and what could be the possible causes behind it?')\n",
        "print(\"\\n--- ANSWER ---\\n\", rag3)\n",
        "print(\"\\n--- SOURCES ---\")\n",
        "for i, d in enumerate(sources, 1):\n",
        "    print(f\"[{i}] source={d.metadata.get('source')} page={d.metadata.get('page')}\")"
      ]
    },
    {
      "cell_type": "markdown",
      "metadata": {
        "id": "0nib7-0v0cy7"
      },
      "source": [
        "### Question 4:  What treatments are recommended for a person who has sustained a physical injury to brain tissue, resulting in temporary or permanent impairment of brain function?"
      ]
    },
    {
      "cell_type": "code",
      "execution_count": null,
      "metadata": {
        "id": "gv-Fi9BL0cy7",
        "colab": {
          "base_uri": "https://localhost:8080/"
        },
        "outputId": "a4ca18f1-9d78-4f81-a382-ff1c8c946d18"
      },
      "outputs": [
        {
          "output_type": "stream",
          "name": "stdout",
          "text": [
            "\n",
            "--- ANSWER ---\n",
            " Recommended treatments for a person who has sustained a traumatic brain injury (TBI) include:\n",
            "\n",
            "- **Initial Management**:\n",
            "  - Ensure a reliable airway.\n",
            "  - Maintain adequate ventilation, oxygenation, and blood pressure (page 3404).\n",
            "\n",
            "- **Surgical Interventions**:\n",
            "  - Surgery may be necessary for severe injuries to:\n",
            "    - Place monitors for intracranial pressure.\n",
            "    - Decompress the brain if intracranial pressure is elevated.\n",
            "    - Remove intracranial hematomas (page 3404).\n",
            "\n",
            "- **Post-Injury Care**:\n",
            "  - In the first few days, focus on maintaining adequate brain perfusion and oxygenation.\n",
            "  - Prevent complications associated with altered sensorium (page 3404).\n",
            "\n",
            "- **Rehabilitation**:\n",
            "  - Many patients require rehabilitation, particularly if they experience prolonged coma (exceeding 24 hours).\n",
            "  - Rehabilitation should be planned early, focusing on cognitive and emotional areas (page 3412).\n",
            "  - Patients with severe cognitive dysfunction may need extensive cognitive therapy, which can begin immediately after injury and continue for months or years (page 3647).\n",
            "\n",
            "These treatments aim to address both immediate medical needs and long-term recovery and rehabilitation.\n",
            "\n",
            "--- SOURCES ---\n",
            "[1] source=/content/medical_diagnosis_manual.pdf page=3404\n",
            "[2] source=/content/medical_diagnosis_manual.pdf page=3412\n",
            "[3] source=/content/medical_diagnosis_manual.pdf page=3647\n",
            "[4] source=/content/medical_diagnosis_manual.pdf page=1817\n"
          ]
        }
      ],
      "source": [
        "rag4, sources = llm_answer('Per this document, what treatments are recommended for a person who has sustained a physical injury to brain tissue, resulting in temporary or permanent impairment of brain function?')\n",
        "print(\"\\n--- ANSWER ---\\n\", rag4)\n",
        "print(\"\\n--- SOURCES ---\")\n",
        "for i, d in enumerate(sources, 1):\n",
        "    print(f\"[{i}] source={d.metadata.get('source')} page={d.metadata.get('page')}\")"
      ]
    },
    {
      "cell_type": "code",
      "execution_count": null,
      "metadata": {
        "id": "qoD9Alx5zmoO",
        "colab": {
          "base_uri": "https://localhost:8080/",
          "height": 175
        },
        "outputId": "61ae76ed-0f5c-4fb1-8bca-5382d9980509"
      },
      "outputs": [
        {
          "output_type": "execute_result",
          "data": {
            "text/plain": [
              "                                       rag_responses\n",
              "0  - **Fluid Resuscitation**: Administer 0.9% nor...\n",
              "1  **Common Symptoms of Appendicitis (Page 172):*...\n",
              "2  **Effective Treatments for Sudden Patchy Hair ...\n",
              "3  Recommended treatments for a person who has su..."
            ],
            "text/html": [
              "\n",
              "  <div id=\"df-1a113700-856b-4dcb-84c6-cf3df2dd5f4d\" class=\"colab-df-container\">\n",
              "    <div>\n",
              "<style scoped>\n",
              "    .dataframe tbody tr th:only-of-type {\n",
              "        vertical-align: middle;\n",
              "    }\n",
              "\n",
              "    .dataframe tbody tr th {\n",
              "        vertical-align: top;\n",
              "    }\n",
              "\n",
              "    .dataframe thead th {\n",
              "        text-align: right;\n",
              "    }\n",
              "</style>\n",
              "<table border=\"1\" class=\"dataframe\">\n",
              "  <thead>\n",
              "    <tr style=\"text-align: right;\">\n",
              "      <th></th>\n",
              "      <th>rag_responses</th>\n",
              "    </tr>\n",
              "  </thead>\n",
              "  <tbody>\n",
              "    <tr>\n",
              "      <th>0</th>\n",
              "      <td>- **Fluid Resuscitation**: Administer 0.9% nor...</td>\n",
              "    </tr>\n",
              "    <tr>\n",
              "      <th>1</th>\n",
              "      <td>**Common Symptoms of Appendicitis (Page 172):*...</td>\n",
              "    </tr>\n",
              "    <tr>\n",
              "      <th>2</th>\n",
              "      <td>**Effective Treatments for Sudden Patchy Hair ...</td>\n",
              "    </tr>\n",
              "    <tr>\n",
              "      <th>3</th>\n",
              "      <td>Recommended treatments for a person who has su...</td>\n",
              "    </tr>\n",
              "  </tbody>\n",
              "</table>\n",
              "</div>\n",
              "    <div class=\"colab-df-buttons\">\n",
              "\n",
              "  <div class=\"colab-df-container\">\n",
              "    <button class=\"colab-df-convert\" onclick=\"convertToInteractive('df-1a113700-856b-4dcb-84c6-cf3df2dd5f4d')\"\n",
              "            title=\"Convert this dataframe to an interactive table.\"\n",
              "            style=\"display:none;\">\n",
              "\n",
              "  <svg xmlns=\"http://www.w3.org/2000/svg\" height=\"24px\" viewBox=\"0 -960 960 960\">\n",
              "    <path d=\"M120-120v-720h720v720H120Zm60-500h600v-160H180v160Zm220 220h160v-160H400v160Zm0 220h160v-160H400v160ZM180-400h160v-160H180v160Zm440 0h160v-160H620v160ZM180-180h160v-160H180v160Zm440 0h160v-160H620v160Z\"/>\n",
              "  </svg>\n",
              "    </button>\n",
              "\n",
              "  <style>\n",
              "    .colab-df-container {\n",
              "      display:flex;\n",
              "      gap: 12px;\n",
              "    }\n",
              "\n",
              "    .colab-df-convert {\n",
              "      background-color: #E8F0FE;\n",
              "      border: none;\n",
              "      border-radius: 50%;\n",
              "      cursor: pointer;\n",
              "      display: none;\n",
              "      fill: #1967D2;\n",
              "      height: 32px;\n",
              "      padding: 0 0 0 0;\n",
              "      width: 32px;\n",
              "    }\n",
              "\n",
              "    .colab-df-convert:hover {\n",
              "      background-color: #E2EBFA;\n",
              "      box-shadow: 0px 1px 2px rgba(60, 64, 67, 0.3), 0px 1px 3px 1px rgba(60, 64, 67, 0.15);\n",
              "      fill: #174EA6;\n",
              "    }\n",
              "\n",
              "    .colab-df-buttons div {\n",
              "      margin-bottom: 4px;\n",
              "    }\n",
              "\n",
              "    [theme=dark] .colab-df-convert {\n",
              "      background-color: #3B4455;\n",
              "      fill: #D2E3FC;\n",
              "    }\n",
              "\n",
              "    [theme=dark] .colab-df-convert:hover {\n",
              "      background-color: #434B5C;\n",
              "      box-shadow: 0px 1px 3px 1px rgba(0, 0, 0, 0.15);\n",
              "      filter: drop-shadow(0px 1px 2px rgba(0, 0, 0, 0.3));\n",
              "      fill: #FFFFFF;\n",
              "    }\n",
              "  </style>\n",
              "\n",
              "    <script>\n",
              "      const buttonEl =\n",
              "        document.querySelector('#df-1a113700-856b-4dcb-84c6-cf3df2dd5f4d button.colab-df-convert');\n",
              "      buttonEl.style.display =\n",
              "        google.colab.kernel.accessAllowed ? 'block' : 'none';\n",
              "\n",
              "      async function convertToInteractive(key) {\n",
              "        const element = document.querySelector('#df-1a113700-856b-4dcb-84c6-cf3df2dd5f4d');\n",
              "        const dataTable =\n",
              "          await google.colab.kernel.invokeFunction('convertToInteractive',\n",
              "                                                    [key], {});\n",
              "        if (!dataTable) return;\n",
              "\n",
              "        const docLinkHtml = 'Like what you see? Visit the ' +\n",
              "          '<a target=\"_blank\" href=https://colab.research.google.com/notebooks/data_table.ipynb>data table notebook</a>'\n",
              "          + ' to learn more about interactive tables.';\n",
              "        element.innerHTML = '';\n",
              "        dataTable['output_type'] = 'display_data';\n",
              "        await google.colab.output.renderOutput(dataTable, element);\n",
              "        const docLink = document.createElement('div');\n",
              "        docLink.innerHTML = docLinkHtml;\n",
              "        element.appendChild(docLink);\n",
              "      }\n",
              "    </script>\n",
              "  </div>\n",
              "\n",
              "\n",
              "    <div id=\"df-7f067fe0-0bbc-4793-a968-290f5d7ff5be\">\n",
              "      <button class=\"colab-df-quickchart\" onclick=\"quickchart('df-7f067fe0-0bbc-4793-a968-290f5d7ff5be')\"\n",
              "                title=\"Suggest charts\"\n",
              "                style=\"display:none;\">\n",
              "\n",
              "<svg xmlns=\"http://www.w3.org/2000/svg\" height=\"24px\"viewBox=\"0 0 24 24\"\n",
              "     width=\"24px\">\n",
              "    <g>\n",
              "        <path d=\"M19 3H5c-1.1 0-2 .9-2 2v14c0 1.1.9 2 2 2h14c1.1 0 2-.9 2-2V5c0-1.1-.9-2-2-2zM9 17H7v-7h2v7zm4 0h-2V7h2v10zm4 0h-2v-4h2v4z\"/>\n",
              "    </g>\n",
              "</svg>\n",
              "      </button>\n",
              "\n",
              "<style>\n",
              "  .colab-df-quickchart {\n",
              "      --bg-color: #E8F0FE;\n",
              "      --fill-color: #1967D2;\n",
              "      --hover-bg-color: #E2EBFA;\n",
              "      --hover-fill-color: #174EA6;\n",
              "      --disabled-fill-color: #AAA;\n",
              "      --disabled-bg-color: #DDD;\n",
              "  }\n",
              "\n",
              "  [theme=dark] .colab-df-quickchart {\n",
              "      --bg-color: #3B4455;\n",
              "      --fill-color: #D2E3FC;\n",
              "      --hover-bg-color: #434B5C;\n",
              "      --hover-fill-color: #FFFFFF;\n",
              "      --disabled-bg-color: #3B4455;\n",
              "      --disabled-fill-color: #666;\n",
              "  }\n",
              "\n",
              "  .colab-df-quickchart {\n",
              "    background-color: var(--bg-color);\n",
              "    border: none;\n",
              "    border-radius: 50%;\n",
              "    cursor: pointer;\n",
              "    display: none;\n",
              "    fill: var(--fill-color);\n",
              "    height: 32px;\n",
              "    padding: 0;\n",
              "    width: 32px;\n",
              "  }\n",
              "\n",
              "  .colab-df-quickchart:hover {\n",
              "    background-color: var(--hover-bg-color);\n",
              "    box-shadow: 0 1px 2px rgba(60, 64, 67, 0.3), 0 1px 3px 1px rgba(60, 64, 67, 0.15);\n",
              "    fill: var(--button-hover-fill-color);\n",
              "  }\n",
              "\n",
              "  .colab-df-quickchart-complete:disabled,\n",
              "  .colab-df-quickchart-complete:disabled:hover {\n",
              "    background-color: var(--disabled-bg-color);\n",
              "    fill: var(--disabled-fill-color);\n",
              "    box-shadow: none;\n",
              "  }\n",
              "\n",
              "  .colab-df-spinner {\n",
              "    border: 2px solid var(--fill-color);\n",
              "    border-color: transparent;\n",
              "    border-bottom-color: var(--fill-color);\n",
              "    animation:\n",
              "      spin 1s steps(1) infinite;\n",
              "  }\n",
              "\n",
              "  @keyframes spin {\n",
              "    0% {\n",
              "      border-color: transparent;\n",
              "      border-bottom-color: var(--fill-color);\n",
              "      border-left-color: var(--fill-color);\n",
              "    }\n",
              "    20% {\n",
              "      border-color: transparent;\n",
              "      border-left-color: var(--fill-color);\n",
              "      border-top-color: var(--fill-color);\n",
              "    }\n",
              "    30% {\n",
              "      border-color: transparent;\n",
              "      border-left-color: var(--fill-color);\n",
              "      border-top-color: var(--fill-color);\n",
              "      border-right-color: var(--fill-color);\n",
              "    }\n",
              "    40% {\n",
              "      border-color: transparent;\n",
              "      border-right-color: var(--fill-color);\n",
              "      border-top-color: var(--fill-color);\n",
              "    }\n",
              "    60% {\n",
              "      border-color: transparent;\n",
              "      border-right-color: var(--fill-color);\n",
              "    }\n",
              "    80% {\n",
              "      border-color: transparent;\n",
              "      border-right-color: var(--fill-color);\n",
              "      border-bottom-color: var(--fill-color);\n",
              "    }\n",
              "    90% {\n",
              "      border-color: transparent;\n",
              "      border-bottom-color: var(--fill-color);\n",
              "    }\n",
              "  }\n",
              "</style>\n",
              "\n",
              "      <script>\n",
              "        async function quickchart(key) {\n",
              "          const quickchartButtonEl =\n",
              "            document.querySelector('#' + key + ' button');\n",
              "          quickchartButtonEl.disabled = true;  // To prevent multiple clicks.\n",
              "          quickchartButtonEl.classList.add('colab-df-spinner');\n",
              "          try {\n",
              "            const charts = await google.colab.kernel.invokeFunction(\n",
              "                'suggestCharts', [key], {});\n",
              "          } catch (error) {\n",
              "            console.error('Error during call to suggestCharts:', error);\n",
              "          }\n",
              "          quickchartButtonEl.classList.remove('colab-df-spinner');\n",
              "          quickchartButtonEl.classList.add('colab-df-quickchart-complete');\n",
              "        }\n",
              "        (() => {\n",
              "          let quickchartButtonEl =\n",
              "            document.querySelector('#df-7f067fe0-0bbc-4793-a968-290f5d7ff5be button');\n",
              "          quickchartButtonEl.style.display =\n",
              "            google.colab.kernel.accessAllowed ? 'block' : 'none';\n",
              "        })();\n",
              "      </script>\n",
              "    </div>\n",
              "\n",
              "    </div>\n",
              "  </div>\n"
            ],
            "application/vnd.google.colaboratory.intrinsic+json": {
              "type": "dataframe",
              "variable_name": "result_df3",
              "summary": "{\n  \"name\": \"result_df3\",\n  \"rows\": 4,\n  \"fields\": [\n    {\n      \"column\": \"rag_responses\",\n      \"properties\": {\n        \"dtype\": \"string\",\n        \"num_unique_values\": 4,\n        \"samples\": [\n          \"**Common Symptoms of Appendicitis (Page 172):**\\n- Abdominal pain\\n- Anorexia\\n- Abdominal tenderness\\n\\n**Treatment Options:**\\n- **Surgical Removal:** Appendicitis is primarily treated through surgical removal of the appendix, known as an appendectomy.\\n- **Non-Surgical Treatment:** About 80% of patients can be treated successfully without surgery using:\\n  - Bed rest\\n  - NPO (nothing by mouth)\\n  - IV fluids\\n  - IV antibiotics (e.g., ceftazidime and metronidazole)\\n  - Percutaneous drainage for abscesses may be considered if symptoms improve.\\n\\n**Indications for Surgery (Page 252):**\\n- Immediate surgery is required for:\\n  - Free perforation\\n  - General peritonitis\\n  - Severe symptoms not responding to nonsurgical treatment within 48 hours\\n  - Increasing pain, tenderness, and fever\\n\\nIn summary, while some cases of appendicitis can be managed without surgery, surgical intervention is often necessary, especially in more severe cases.\",\n          \"Recommended treatments for a person who has sustained a traumatic brain injury (TBI) include:\\n\\n- **Initial Management**:\\n  - Ensure a reliable airway.\\n  - Maintain adequate ventilation, oxygenation, and blood pressure (page 3404).\\n\\n- **Surgical Interventions**:\\n  - Surgery may be necessary for severe injuries to:\\n    - Place monitors for intracranial pressure.\\n    - Decompress the brain if intracranial pressure is elevated.\\n    - Remove intracranial hematomas (page 3404).\\n\\n- **Post-Injury Care**:\\n  - In the first few days, focus on maintaining adequate brain perfusion and oxygenation.\\n  - Prevent complications associated with altered sensorium (page 3404).\\n\\n- **Rehabilitation**:\\n  - Many patients require rehabilitation, particularly if they experience prolonged coma (exceeding 24 hours).\\n  - Rehabilitation should be planned early, focusing on cognitive and emotional areas (page 3412).\\n  - Patients with severe cognitive dysfunction may need extensive cognitive therapy, which can begin immediately after injury and continue for months or years (page 3647).\\n\\nThese treatments aim to address both immediate medical needs and long-term recovery and rehabilitation.\",\n          \"- **Fluid Resuscitation**: Administer 0.9% normal saline until central venous pressure (CVP) reaches 8 mm Hg (10 cm H2O) or pulmonary artery occlusion pressure (PAOP) is adequate (page 2455).\\n- **Oxygen Therapy**: Ensure adequate oxygenation (page 2455).\\n- **Antibiotics**: Start broad-spectrum antibiotics, adjusting based on culture results (page 2455).\\n- **Surgical Interventions**: Drain abscesses and excise necrotic tissue as necessary (page 2455).\\n- **Blood Glucose Management**: Normalize blood glucose levels (page 2455).\\n- **Corticosteroids**: Administer replacement-dose corticosteroids (page 2455).\\n- **Monitoring**: Frequent monitoring of systemic pressure, central venous pressure (CVP), pulmonary artery occlusion pressure (PAOP), pulse oximetry, arterial blood gases (ABGs), blood glucose, lactate, electrolyte levels, renal function, and urine output is essential (page 2455).\\n- **ICU Care**: Patients with septic shock should be treated in an Intensive Care Unit (ICU) (page 2455).\\n\\nThese protocols aim to stabilize the patient and address the underlying causes of sepsis effectively.\"\n        ],\n        \"semantic_type\": \"\",\n        \"description\": \"\"\n      }\n    }\n  ]\n}"
            }
          },
          "metadata": {},
          "execution_count": 22
        }
      ],
      "source": [
        "# Create the DataFrame\n",
        "result_df3 = pd.DataFrame({\n",
        "    \"rag_responses\": [rag1, rag2, rag3, rag4]})\n",
        "\n",
        "# Display the DataFrame\n",
        "result_df3.head()"
      ]
    },
    {
      "cell_type": "markdown",
      "metadata": {
        "id": "qRwURUk-15CT"
      },
      "source": [
        "## Output Evaluation"
      ]
    },
    {
      "cell_type": "markdown",
      "metadata": {
        "id": "h_kKHCe2mqpE"
      },
      "source": [
        "#### **Evaluation 1: Base Prompt Response Evaluation**"
      ]
    },
    {
      "cell_type": "code",
      "execution_count": null,
      "metadata": {
        "id": "DcA0EGGoWGZQ",
        "colab": {
          "base_uri": "https://localhost:8080/"
        },
        "outputId": "480e0f39-b0e4-46c6-b2b2-3e5f53b725f4"
      },
      "outputs": [
        {
          "output_type": "execute_result",
          "data": {
            "text/plain": [
              "(   idx                                           question  base_relevance  \\\n",
              " 0    1  What is the protocol for managing sepsis in a ...               5   \n",
              " 1    2  What are the common symptoms for appendicitis,...               5   \n",
              " 2    3  What are the effective treatments or solutions...               5   \n",
              " 3    4  What treatments are recommended for a person w...               5   \n",
              " \n",
              "    base_groundedness  base_completeness  base_specificity  base_safety  \\\n",
              " 0                  5                  4                 5            5   \n",
              " 1                  5                  5                 5            5   \n",
              " 2                  5                  4                 5            5   \n",
              " 3                  5                  4                 4            5   \n",
              " \n",
              "                                 base_notes_relevance  \\\n",
              " 0  The answer is highly relevant as it directly a...   \n",
              " 1                                                      \n",
              " 2  The response directly addresses the question a...   \n",
              " 3  The answer is highly relevant as it directly a...   \n",
              " \n",
              "                              base_notes_groundedness  \\\n",
              " 0  The answer is well-grounded in the provided ev...   \n",
              " 1                                                      \n",
              " 2  The information provided is well-supported by ...   \n",
              " 3  The answer is well-grounded in the provided ev...   \n",
              " \n",
              "                              base_notes_completeness  ... rag_groundedness  \\\n",
              " 0  The answer is mostly complete but could includ...  ...                5   \n",
              " 1                                                     ...                5   \n",
              " 2  The response covers a wide range of treatments...  ...                5   \n",
              " 3  The answer is mostly complete but could includ...  ...                5   \n",
              " \n",
              "   rag_completeness  rag_specificity  rag_safety  \\\n",
              " 0                5                5           5   \n",
              " 1                4                4           5   \n",
              " 2                5                5           5   \n",
              " 3                5                5           5   \n",
              " \n",
              "                                  rag_notes_relevance  \\\n",
              " 0  The answer directly addresses the protocol for...   \n",
              " 1  The answer directly addresses the user's quest...   \n",
              " 2  The answer directly addresses the question abo...   \n",
              " 3  The answer directly addresses the question abo...   \n",
              " \n",
              "                               rag_notes_groundedness  \\\n",
              " 0  The answer is well-grounded in the evidence pr...   \n",
              " 1  The information is well-supported by the provi...   \n",
              " 2  The information provided is well-supported by ...   \n",
              " 3  The information provided is well-supported by ...   \n",
              " \n",
              "                               rag_notes_completeness  \\\n",
              " 0  The answer covers all major aspects of sepsis ...   \n",
              " 1  The answer could include more details about th...   \n",
              " 2  The answer covers both treatments and potentia...   \n",
              " 3  The answer covers initial management, surgical...   \n",
              " \n",
              "                                rag_notes_specificity  \\\n",
              " 0  The answer provides specific details on the ma...   \n",
              " 1  The answer is specific but could mention the t...   \n",
              " 2  The answer provides specific treatments and ca...   \n",
              " 3  The answer includes specific treatments and pr...   \n",
              " \n",
              "                                     rag_notes_safety rag_overall  \n",
              " 0  The answer adheres to safe medical practices a...         5.0  \n",
              " 1  The answer correctly emphasizes the importance...         4.5  \n",
              " 2  The treatments mentioned are standard and safe...         5.0  \n",
              " 3  The treatments mentioned are standard medical ...         5.0  \n",
              " \n",
              " [4 rows x 35 columns],\n",
              "          metric  base  prompt   rag\n",
              " 0     relevance  5.00    4.75  5.00\n",
              " 1  groundedness  5.00    4.75  5.00\n",
              " 2  completeness  4.25    4.00  4.75\n",
              " 3   specificity  4.75    4.50  4.75\n",
              " 4        safety  5.00    4.50  5.00\n",
              " 5       overall  4.88    4.50  4.88)"
            ]
          },
          "metadata": {},
          "execution_count": 23
        }
      ],
      "source": [
        "import os, json, time, math\n",
        "import pandas as pd\n",
        "from typing import Dict, List\n",
        "from tenacity import retry, wait_exponential, stop_after_attempt, retry_if_exception_type\n",
        "from openai import OpenAI, RateLimitError as OpenAIRateLimitError, APIError as OpenAIApiError\n",
        "\n",
        "# ---------- Config ----------\n",
        "PRIMARY_MODEL = \"gpt-4o\"\n",
        "BACKUP_MODEL  = \"gpt-4o-mini\"\n",
        "JUDGE_MAX_TOKENS = 200\n",
        "TEMPERATURE = 0.0\n",
        "\n",
        "client = OpenAI()  # uses env vars\n",
        "\n",
        "# ---------- Judge prompts ----------\n",
        "JUDGE_SYSTEM = (\n",
        "    \"You are a careful medical QA evaluator. Use ONLY the EVIDENCE. \"\n",
        "    'Return JSON: {\"relevance\":1-5,\"groundedness\":1-5,\"completeness\":1-5,'\n",
        "    '\"specificity\":1-5,\"safety\":1-5,\"notes_relevance\":\"\",\"notes_groundedness\":\"\",'\n",
        "    '\"notes_completeness\":\"\",\"notes_specificity\":\"\",\"notes_safety\":\"\",\"overall\":0-5}.'\n",
        ")\n",
        "JUDGE_USER_TEMPLATE = (\n",
        "    \"USER_QUESTION:\\n{question}\\n\\n\"\n",
        "    \"EVIDENCE:\\n{evidence}\\n\\n\"\n",
        "    \"ASSISTANT_ANSWER:\\n{answer}\\n\\n\"\n",
        "    \"Be strict. Return STRICT JSON only.\"\n",
        ")\n",
        "\n",
        "# ---------- Evidence caching ----------\n",
        "_evidence_cache: Dict[str, str] = {}\n",
        "\n",
        "def retrieve_evidence(question: str, k: int = 5) -> str:\n",
        "    \"\"\"Cache retrieval to avoid repeated vector DB calls.\"\"\"\n",
        "    if question in _evidence_cache:\n",
        "        return _evidence_cache[question]\n",
        "    docs = retriever.get_relevant_documents(question, k=k)\n",
        "    lines = []\n",
        "    for i, d in enumerate(docs, 1):\n",
        "        page = d.metadata.get(\"page\", \"NA\")\n",
        "        src = d.metadata.get(\"source\", \"\")\n",
        "        excerpt = d.page_content.strip().replace(\"\\n\", \" \")\n",
        "        lines.append(f\"[{i}] (page {page}) {excerpt[:1200]}\")\n",
        "    ev = \"\\n\".join(lines) if lines else \"NO EVIDENCE\"\n",
        "    _evidence_cache[question] = ev\n",
        "    return ev\n",
        "\n",
        "# ---------- Local heuristic fallback ----------\n",
        "# Uses cosine similarity to approximate relevance & groundedness; fills others neutrally.\n",
        "from sentence_transformers import SentenceTransformer, util\n",
        "_local_model = None\n",
        "\n",
        "def _get_local_embedder():\n",
        "    global _local_model\n",
        "    if _local_model is None:\n",
        "        _local_model = SentenceTransformer(\"sentence-transformers/all-MiniLM-L6-v2\")\n",
        "    return _local_model\n",
        "\n",
        "def local_heuristic_judge(question: str, answer: str, evidence: str) -> dict:\n",
        "    \"\"\"No-API fallback: cosine similarities as proxies.\"\"\"\n",
        "    model = _get_local_embedder()\n",
        "    # Relevance: answer vs question\n",
        "    rel = util.cos_sim(model.encode([answer], normalize_embeddings=True),\n",
        "                       model.encode([question], normalize_embeddings=True)).item()\n",
        "    # Groundedness: answer vs evidence\n",
        "    grd = util.cos_sim(model.encode([answer], normalize_embeddings=True),\n",
        "                       model.encode([evidence], normalize_embeddings=True)).item() if evidence != \"NO EVIDENCE\" else 0.0\n",
        "    # Map cosine [-1,1] to [1,5]\n",
        "    def to15(x):\n",
        "        x = max(-1.0, min(1.0, float(x)))\n",
        "        return round(1 + 4 * (x + 1) / 2, 2)\n",
        "    relevance = to15(rel)\n",
        "    groundedness = to15(grd)\n",
        "    completeness = 3.0\n",
        "    specificity  = 3.0\n",
        "    safety       = 3.5\n",
        "    overall = round((relevance + groundedness + completeness + specificity + safety)/5, 2)\n",
        "    return {\n",
        "        \"relevance\": relevance,\n",
        "        \"groundedness\": groundedness,\n",
        "        \"completeness\": completeness,\n",
        "        \"specificity\": specificity,\n",
        "        \"safety\": safety,\n",
        "        \"notes_relevance\": \"Local heuristic (cosine) vs question.\",\n",
        "        \"notes_groundedness\": \"Local heuristic (cosine) vs evidence.\",\n",
        "        \"notes_completeness\": \"Heuristic default.\",\n",
        "        \"notes_specificity\": \"Heuristic default.\",\n",
        "        \"notes_safety\": \"Heuristic default.\",\n",
        "        \"overall\": overall,\n",
        "    }\n",
        "\n",
        "# ---------- LLM Judge with retry + fallback ----------\n",
        "def _judge_once(model_name: str, question: str, answer: str, evidence: str) -> dict:\n",
        "    user_msg = JUDGE_USER_TEMPLATE.format(question=question, evidence=evidence, answer=answer)\n",
        "    resp = client.chat.completions.create(\n",
        "        model=model_name,\n",
        "        messages=[{\"role\":\"system\",\"content\":JUDGE_SYSTEM},\n",
        "                  {\"role\":\"user\",\"content\":user_msg}],\n",
        "        temperature=TEMPERATURE,\n",
        "        max_tokens=JUDGE_MAX_TOKENS,\n",
        "        response_format={\"type\":\"json_object\"},\n",
        "    )\n",
        "    raw = resp.choices[0].message.content\n",
        "    data = json.loads(raw)\n",
        "    if \"overall\" not in data or data[\"overall\"] is None:\n",
        "        nums = [data.get(k, 0) for k in [\"relevance\",\"groundedness\",\"completeness\",\"specificity\",\"safety\"]]\n",
        "        data[\"overall\"] = round(sum(nums)/len(nums), 2)\n",
        "    return data\n",
        "\n",
        "@retry(\n",
        "    reraise=True,\n",
        "    stop=stop_after_attempt(4),\n",
        "    wait=wait_exponential(min=2, max=30),\n",
        "    retry=retry_if_exception_type((OpenAIRateLimitError, OpenAIApiError))\n",
        ")\n",
        "def judge_with_retries(model_name: str, question: str, answer: str, evidence: str) -> dict:\n",
        "    return _judge_once(model_name, question, answer, evidence)\n",
        "\n",
        "def safe_judge(question: str, answer: str) -> dict:\n",
        "    evidence = retrieve_evidence(question)\n",
        "    # Try primary model\n",
        "    try:\n",
        "        return judge_with_retries(PRIMARY_MODEL, question, answer, evidence)\n",
        "    except Exception as e1:\n",
        "        if \"insufficient_quota\" in str(e1) or \"429\" in str(e1):\n",
        "            # Try backup cheaper model\n",
        "            try:\n",
        "                return judge_with_retries(BACKUP_MODEL, question, answer, evidence)\n",
        "            except Exception as e2:\n",
        "                if \"insufficient_quota\" in str(e2) or \"429\" in str(e2):\n",
        "                    # Fall back to local heuristic\n",
        "                    return local_heuristic_judge(question, answer, evidence)\n",
        "                else:\n",
        "                    raise\n",
        "        else:\n",
        "            raise\n",
        "\n",
        "# ---------- Batch evaluation (base, prompt, rag) ----------\n",
        "def evaluate_all(questions: List[str],\n",
        "                 answers_base: List[str],\n",
        "                 answers_prompt: List[str],\n",
        "                 answers_rag: List[str]) -> pd.DataFrame:\n",
        "    assert len(questions) == len(answers_base) == len(answers_prompt) == len(answers_rag)\n",
        "    records = []\n",
        "    for i, q in enumerate(questions, 1):\n",
        "        rec = {\"idx\": i, \"question\": q}\n",
        "\n",
        "        jb = safe_judge(q, answers_base[i-1])\n",
        "        rec.update({f\"base_{k}\": v for k, v in jb.items()})\n",
        "\n",
        "        jp = safe_judge(q, answers_prompt[i-1])\n",
        "        rec.update({f\"prompt_{k}\": v for k, v in jp.items()})\n",
        "\n",
        "        jr = safe_judge(q, answers_rag[i-1])\n",
        "        rec.update({f\"rag_{k}\": v for k, v in jr.items()})\n",
        "\n",
        "        records.append(rec)\n",
        "    return pd.DataFrame(records)\n",
        "\n",
        "# ---------- Run it on your dataframes ----------\n",
        "questions = list(result_df[\"questions\"])\n",
        "answers_base   = list(result_df[\"base_prompt_responses\"])\n",
        "answers_prompt = list(result_df2[\"base_prompt_responses\"])   # engineered answers\n",
        "answers_rag    = list(result_df3[\"rag_responses\"])\n",
        "\n",
        "eval_df = evaluate_all(questions, answers_base, answers_prompt, answers_rag)\n",
        "\n",
        "# Summary\n",
        "cols = [\"relevance\",\"groundedness\",\"completeness\",\"specificity\",\"safety\",\"overall\"]\n",
        "summary = pd.DataFrame({\n",
        "    \"metric\": cols,\n",
        "    \"base\":   [eval_df[f\"base_{c}\"].mean()   for c in cols],\n",
        "    \"prompt\": [eval_df[f\"prompt_{c}\"].mean() for c in cols],\n",
        "    \"rag\":    [eval_df[f\"rag_{c}\"].mean()    for c in cols],\n",
        "}).round(2)\n",
        "\n",
        "eval_df.head(), summary\n"
      ]
    },
    {
      "cell_type": "code",
      "execution_count": null,
      "metadata": {
        "id": "HCqU4mDs1FbM",
        "colab": {
          "base_uri": "https://localhost:8080/",
          "height": 89
        },
        "outputId": "8e9709b8-c0f3-4e39-c991-5cc8fb124c78"
      },
      "outputs": [
        {
          "output_type": "execute_result",
          "data": {
            "text/plain": [
              "             metric  base  prompt   rag\n",
              "0  overall_weighted  4.81    4.53  4.91"
            ],
            "text/html": [
              "\n",
              "  <div id=\"df-76455c89-7a91-4e6c-abc1-4b36313f51bd\" class=\"colab-df-container\">\n",
              "    <div>\n",
              "<style scoped>\n",
              "    .dataframe tbody tr th:only-of-type {\n",
              "        vertical-align: middle;\n",
              "    }\n",
              "\n",
              "    .dataframe tbody tr th {\n",
              "        vertical-align: top;\n",
              "    }\n",
              "\n",
              "    .dataframe thead th {\n",
              "        text-align: right;\n",
              "    }\n",
              "</style>\n",
              "<table border=\"1\" class=\"dataframe\">\n",
              "  <thead>\n",
              "    <tr style=\"text-align: right;\">\n",
              "      <th></th>\n",
              "      <th>metric</th>\n",
              "      <th>base</th>\n",
              "      <th>prompt</th>\n",
              "      <th>rag</th>\n",
              "    </tr>\n",
              "  </thead>\n",
              "  <tbody>\n",
              "    <tr>\n",
              "      <th>0</th>\n",
              "      <td>overall_weighted</td>\n",
              "      <td>4.81</td>\n",
              "      <td>4.53</td>\n",
              "      <td>4.91</td>\n",
              "    </tr>\n",
              "  </tbody>\n",
              "</table>\n",
              "</div>\n",
              "    <div class=\"colab-df-buttons\">\n",
              "\n",
              "  <div class=\"colab-df-container\">\n",
              "    <button class=\"colab-df-convert\" onclick=\"convertToInteractive('df-76455c89-7a91-4e6c-abc1-4b36313f51bd')\"\n",
              "            title=\"Convert this dataframe to an interactive table.\"\n",
              "            style=\"display:none;\">\n",
              "\n",
              "  <svg xmlns=\"http://www.w3.org/2000/svg\" height=\"24px\" viewBox=\"0 -960 960 960\">\n",
              "    <path d=\"M120-120v-720h720v720H120Zm60-500h600v-160H180v160Zm220 220h160v-160H400v160Zm0 220h160v-160H400v160ZM180-400h160v-160H180v160Zm440 0h160v-160H620v160ZM180-180h160v-160H180v160Zm440 0h160v-160H620v160Z\"/>\n",
              "  </svg>\n",
              "    </button>\n",
              "\n",
              "  <style>\n",
              "    .colab-df-container {\n",
              "      display:flex;\n",
              "      gap: 12px;\n",
              "    }\n",
              "\n",
              "    .colab-df-convert {\n",
              "      background-color: #E8F0FE;\n",
              "      border: none;\n",
              "      border-radius: 50%;\n",
              "      cursor: pointer;\n",
              "      display: none;\n",
              "      fill: #1967D2;\n",
              "      height: 32px;\n",
              "      padding: 0 0 0 0;\n",
              "      width: 32px;\n",
              "    }\n",
              "\n",
              "    .colab-df-convert:hover {\n",
              "      background-color: #E2EBFA;\n",
              "      box-shadow: 0px 1px 2px rgba(60, 64, 67, 0.3), 0px 1px 3px 1px rgba(60, 64, 67, 0.15);\n",
              "      fill: #174EA6;\n",
              "    }\n",
              "\n",
              "    .colab-df-buttons div {\n",
              "      margin-bottom: 4px;\n",
              "    }\n",
              "\n",
              "    [theme=dark] .colab-df-convert {\n",
              "      background-color: #3B4455;\n",
              "      fill: #D2E3FC;\n",
              "    }\n",
              "\n",
              "    [theme=dark] .colab-df-convert:hover {\n",
              "      background-color: #434B5C;\n",
              "      box-shadow: 0px 1px 3px 1px rgba(0, 0, 0, 0.15);\n",
              "      filter: drop-shadow(0px 1px 2px rgba(0, 0, 0, 0.3));\n",
              "      fill: #FFFFFF;\n",
              "    }\n",
              "  </style>\n",
              "\n",
              "    <script>\n",
              "      const buttonEl =\n",
              "        document.querySelector('#df-76455c89-7a91-4e6c-abc1-4b36313f51bd button.colab-df-convert');\n",
              "      buttonEl.style.display =\n",
              "        google.colab.kernel.accessAllowed ? 'block' : 'none';\n",
              "\n",
              "      async function convertToInteractive(key) {\n",
              "        const element = document.querySelector('#df-76455c89-7a91-4e6c-abc1-4b36313f51bd');\n",
              "        const dataTable =\n",
              "          await google.colab.kernel.invokeFunction('convertToInteractive',\n",
              "                                                    [key], {});\n",
              "        if (!dataTable) return;\n",
              "\n",
              "        const docLinkHtml = 'Like what you see? Visit the ' +\n",
              "          '<a target=\"_blank\" href=https://colab.research.google.com/notebooks/data_table.ipynb>data table notebook</a>'\n",
              "          + ' to learn more about interactive tables.';\n",
              "        element.innerHTML = '';\n",
              "        dataTable['output_type'] = 'display_data';\n",
              "        await google.colab.output.renderOutput(dataTable, element);\n",
              "        const docLink = document.createElement('div');\n",
              "        docLink.innerHTML = docLinkHtml;\n",
              "        element.appendChild(docLink);\n",
              "      }\n",
              "    </script>\n",
              "  </div>\n",
              "\n",
              "\n",
              "  <div id=\"id_fded9396-1e28-482c-9f42-d8c02bf41258\">\n",
              "    <style>\n",
              "      .colab-df-generate {\n",
              "        background-color: #E8F0FE;\n",
              "        border: none;\n",
              "        border-radius: 50%;\n",
              "        cursor: pointer;\n",
              "        display: none;\n",
              "        fill: #1967D2;\n",
              "        height: 32px;\n",
              "        padding: 0 0 0 0;\n",
              "        width: 32px;\n",
              "      }\n",
              "\n",
              "      .colab-df-generate:hover {\n",
              "        background-color: #E2EBFA;\n",
              "        box-shadow: 0px 1px 2px rgba(60, 64, 67, 0.3), 0px 1px 3px 1px rgba(60, 64, 67, 0.15);\n",
              "        fill: #174EA6;\n",
              "      }\n",
              "\n",
              "      [theme=dark] .colab-df-generate {\n",
              "        background-color: #3B4455;\n",
              "        fill: #D2E3FC;\n",
              "      }\n",
              "\n",
              "      [theme=dark] .colab-df-generate:hover {\n",
              "        background-color: #434B5C;\n",
              "        box-shadow: 0px 1px 3px 1px rgba(0, 0, 0, 0.15);\n",
              "        filter: drop-shadow(0px 1px 2px rgba(0, 0, 0, 0.3));\n",
              "        fill: #FFFFFF;\n",
              "      }\n",
              "    </style>\n",
              "    <button class=\"colab-df-generate\" onclick=\"generateWithVariable('summary_weighted')\"\n",
              "            title=\"Generate code using this dataframe.\"\n",
              "            style=\"display:none;\">\n",
              "\n",
              "  <svg xmlns=\"http://www.w3.org/2000/svg\" height=\"24px\"viewBox=\"0 0 24 24\"\n",
              "       width=\"24px\">\n",
              "    <path d=\"M7,19H8.4L18.45,9,17,7.55,7,17.6ZM5,21V16.75L18.45,3.32a2,2,0,0,1,2.83,0l1.4,1.43a1.91,1.91,0,0,1,.58,1.4,1.91,1.91,0,0,1-.58,1.4L9.25,21ZM18.45,9,17,7.55Zm-12,3A5.31,5.31,0,0,0,4.9,8.1,5.31,5.31,0,0,0,1,6.5,5.31,5.31,0,0,0,4.9,4.9,5.31,5.31,0,0,0,6.5,1,5.31,5.31,0,0,0,8.1,4.9,5.31,5.31,0,0,0,12,6.5,5.46,5.46,0,0,0,6.5,12Z\"/>\n",
              "  </svg>\n",
              "    </button>\n",
              "    <script>\n",
              "      (() => {\n",
              "      const buttonEl =\n",
              "        document.querySelector('#id_fded9396-1e28-482c-9f42-d8c02bf41258 button.colab-df-generate');\n",
              "      buttonEl.style.display =\n",
              "        google.colab.kernel.accessAllowed ? 'block' : 'none';\n",
              "\n",
              "      buttonEl.onclick = () => {\n",
              "        google.colab.notebook.generateWithVariable('summary_weighted');\n",
              "      }\n",
              "      })();\n",
              "    </script>\n",
              "  </div>\n",
              "\n",
              "    </div>\n",
              "  </div>\n"
            ],
            "application/vnd.google.colaboratory.intrinsic+json": {
              "type": "dataframe",
              "variable_name": "summary_weighted",
              "summary": "{\n  \"name\": \"summary_weighted\",\n  \"rows\": 1,\n  \"fields\": [\n    {\n      \"column\": \"metric\",\n      \"properties\": {\n        \"dtype\": \"string\",\n        \"num_unique_values\": 1,\n        \"samples\": [\n          \"overall_weighted\"\n        ],\n        \"semantic_type\": \"\",\n        \"description\": \"\"\n      }\n    },\n    {\n      \"column\": \"base\",\n      \"properties\": {\n        \"dtype\": \"number\",\n        \"std\": null,\n        \"min\": 4.81,\n        \"max\": 4.81,\n        \"num_unique_values\": 1,\n        \"samples\": [\n          4.81\n        ],\n        \"semantic_type\": \"\",\n        \"description\": \"\"\n      }\n    },\n    {\n      \"column\": \"prompt\",\n      \"properties\": {\n        \"dtype\": \"number\",\n        \"std\": null,\n        \"min\": 4.53,\n        \"max\": 4.53,\n        \"num_unique_values\": 1,\n        \"samples\": [\n          4.53\n        ],\n        \"semantic_type\": \"\",\n        \"description\": \"\"\n      }\n    },\n    {\n      \"column\": \"rag\",\n      \"properties\": {\n        \"dtype\": \"number\",\n        \"std\": null,\n        \"min\": 4.91,\n        \"max\": 4.91,\n        \"num_unique_values\": 1,\n        \"samples\": [\n          4.91\n        ],\n        \"semantic_type\": \"\",\n        \"description\": \"\"\n      }\n    }\n  ]\n}"
            }
          },
          "metadata": {},
          "execution_count": 24
        }
      ],
      "source": [
        "WEIGHTS = {\"relevance\":1.0, \"groundedness\":1.5, \"completeness\":1.0, \"specificity\":0.75, \"safety\":0.75}\n",
        "\n",
        "def weighted_overall(row, prefix):\n",
        "    return round(sum(row[f\"{prefix}_{k}\"]*w for k, w in WEIGHTS.items())/sum(WEIGHTS.values()), 2)\n",
        "\n",
        "for pref in [\"base\",\"prompt\",\"rag\"]:\n",
        "    eval_df[f\"{pref}_overall_weighted\"] = eval_df.apply(lambda r: weighted_overall(r, pref), axis=1)\n",
        "\n",
        "summary_weighted = pd.DataFrame({\n",
        "    \"metric\": [\"overall_weighted\"],\n",
        "    \"base\":   [eval_df[\"base_overall_weighted\"].mean()],\n",
        "    \"prompt\": [eval_df[\"prompt_overall_weighted\"].mean()],\n",
        "    \"rag\":    [eval_df[\"rag_overall_weighted\"].mean()],\n",
        "}).round(2)\n",
        "\n",
        "summary_weighted\n"
      ]
    },
    {
      "cell_type": "code",
      "execution_count": null,
      "metadata": {
        "id": "7Ojk7udb1Ivm",
        "colab": {
          "base_uri": "https://localhost:8080/"
        },
        "outputId": "43bf279a-2ca7-4d52-e5a2-211f55e533b2"
      },
      "outputs": [
        {
          "output_type": "execute_result",
          "data": {
            "text/plain": [
              "{'base_overall': np.float64(5.0),\n",
              " 'prompt_overall': np.int64(4),\n",
              " 'rag_overall': np.float64(5.0),\n",
              " 'why_base_lost_groundedness': 'The answer is well-grounded in the provided evidence, referencing specific treatments and monitoring strategies mentioned in the sources.',\n",
              " 'why_rag_scored_better': 'The answer covers all major aspects of sepsis management as outlined in the evidence, including fluid resuscitation, antibiotics, surgical interventions, and monitoring.'}"
            ]
          },
          "metadata": {},
          "execution_count": 25
        }
      ],
      "source": [
        "# Example: inspect Question 1 across methods\n",
        "row1 = eval_df.iloc[0]\n",
        "{\n",
        "  \"base_overall\": row1[\"base_overall\"],\n",
        "  \"prompt_overall\": row1[\"prompt_overall\"],\n",
        "  \"rag_overall\": row1[\"rag_overall\"],\n",
        "  \"why_base_lost_groundedness\": row1[\"base_notes_groundedness\"],\n",
        "  \"why_rag_scored_better\": row1[\"rag_notes_completeness\"],\n",
        "}\n"
      ]
    },
    {
      "cell_type": "code",
      "execution_count": null,
      "metadata": {
        "id": "H-L06kNz1vYI",
        "colab": {
          "base_uri": "https://localhost:8080/",
          "height": 921
        },
        "outputId": "eeedca7c-ca4e-4963-923c-2573a237a04c"
      },
      "outputs": [
        {
          "output_type": "stream",
          "name": "stdout",
          "text": [
            "\n",
            "=== Per-question evaluation with winner ===\n",
            "   idx                                           question  base_overall  \\\n",
            "0    1  What is the protocol for managing sepsis in a ...           5.0   \n",
            "1    2  What are the common symptoms for appendicitis,...           5.0   \n",
            "2    3  What are the effective treatments or solutions...           5.0   \n",
            "3    4  What treatments are recommended for a person w...           4.5   \n",
            "\n",
            "   prompt_overall  rag_overall      best_method  \n",
            "0               4          5.0         base=rag  \n",
            "1               5          4.5      base=prompt  \n",
            "2               5          5.0  base=prompt=rag  \n",
            "3               4          5.0              rag  \n",
            "\n",
            "=== Winner counts ===\n",
            "       best_method  count\n",
            "0         base=rag      1\n",
            "1      base=prompt      1\n",
            "2  base=prompt=rag      1\n",
            "3              rag      1\n",
            "\n",
            "=== Average overall by method ===\n",
            "    metric  base  prompt   rag\n",
            "0  overall  4.88     4.5  4.88\n"
          ]
        },
        {
          "output_type": "display_data",
          "data": {
            "text/plain": [
              "<Figure size 640x480 with 1 Axes>"
            ],
            "image/png": "[encoded data removed]"
          },
          "metadata": {}
        },
        {
          "output_type": "stream",
          "name": "stdout",
          "text": [
            "Saved detailed results to ./eval_results.csv\n"
          ]
        }
      ],
      "source": [
        "import pandas as pd\n",
        "import numpy as np\n",
        "import matplotlib.pyplot as plt\n",
        "from typing import List\n",
        "\n",
        "def ensure_overall_columns(df: pd.DataFrame, prefix: str, metrics: List[str]) -> None:\n",
        "    \"\"\"Ensure there is an `{prefix}_overall` column; if missing, compute as mean of metrics.\"\"\"\n",
        "    overall_col = f\"{prefix}_overall\"\n",
        "    if overall_col not in df.columns:\n",
        "        missing = [f\"{prefix}_{m}\" for m in metrics if f\"{prefix}_{m}\" not in df.columns]\n",
        "        if missing:\n",
        "            print(f\"Cannot compute {overall_col}; missing metric columns:\", missing)\n",
        "        else:\n",
        "            df[overall_col] = df[[f\"{prefix}_{m}\" for m in metrics]].mean(axis=1).round(2)\n",
        "\n",
        "def pick_winner(row: pd.Series, methods=(\"base\",\"prompt\",\"rag\")) -> str:\n",
        "    \"\"\"Returns the best method by highest overall; handle ties by joining names with '='.\"\"\"\n",
        "    scores = {m: row.get(f\"{m}_overall\", np.nan) for m in methods}\n",
        "    if all(pd.isna(v) for v in scores.values()):\n",
        "        return \"NA\"\n",
        "    max_score = np.nanmax(list(scores.values()))\n",
        "    winners = [m for m, v in scores.items() if np.isclose(v, max_score, equal_nan=False)]\n",
        "    return \"=\".join(winners)\n",
        "\n",
        "# ---- Main evaluation summary ----\n",
        "METRICS = [\"relevance\",\"groundedness\",\"completeness\",\"specificity\",\"safety\"]\n",
        "for pref in (\"base\",\"prompt\",\"rag\"):\n",
        "    ensure_overall_columns(eval_df, prefix=pref, metrics=METRICS)\n",
        "\n",
        "# Add winner per question\n",
        "eval_df[\"best_method\"] = eval_df.apply(pick_winner, axis=1)\n",
        "\n",
        "# Summaries\n",
        "winner_counts = eval_df[\"best_method\"].value_counts().reset_index()\n",
        "winner_counts.columns = [\"best_method\",\"count\"]\n",
        "\n",
        "method_means = pd.DataFrame({\n",
        "    \"metric\": [\"overall\"],\n",
        "    \"base\":   [eval_df[\"base_overall\"].mean()],\n",
        "    \"prompt\": [eval_df[\"prompt_overall\"].mean()],\n",
        "    \"rag\":    [eval_df[\"rag_overall\"].mean()],\n",
        "}).round(2)\n",
        "\n",
        "# --- Show results ---\n",
        "print(\"\\n=== Per-question evaluation with winner ===\")\n",
        "print(eval_df[[\"idx\",\"question\",\"base_overall\",\"prompt_overall\",\"rag_overall\",\"best_method\"]])\n",
        "\n",
        "print(\"\\n=== Winner counts ===\")\n",
        "print(winner_counts)\n",
        "\n",
        "print(\"\\n=== Average overall by method ===\")\n",
        "print(method_means)\n",
        "\n",
        "# --- Plot a simple bar chart ---\n",
        "means = method_means[[\"base\",\"prompt\",\"rag\"]].iloc[0]\n",
        "plt.figure()\n",
        "means.plot(kind=\"bar\")\n",
        "plt.title(\"Average Overall Score by Method\")\n",
        "plt.ylabel(\"Score (0–5)\")\n",
        "plt.xlabel(\"Method\")\n",
        "plt.ylim(0, 5)\n",
        "plt.tight_layout()\n",
        "plt.show()\n",
        "\n",
        "# --- Save CSV for downstream reporting ---\n",
        "out_path = \"./eval_results.csv\"\n",
        "eval_df.to_csv(out_path, index=False)\n",
        "print(f\"Saved detailed results to {out_path}\")\n"
      ]
    },
    {
      "cell_type": "markdown",
      "metadata": {
        "id": "Y7QICRU-njdj"
      },
      "source": [
        "## Actionable Insights and Business Recommendations"
      ]
    },
    {
      "cell_type": "markdown",
      "metadata": {
        "id": "aT73ezEN-DUP"
      },
      "source": [
        "We observe that base-LLM, prompt-engineering LLM and RAG maintained pretty high scores across the board when compared on relevance, groundedness, completeness, specificity and safety. In fact, base-LLM performed nearly as well as RAG. It could be that the base-LLM's general knowledge aligns closely with the manual because sepsis protocols, appendicitis, TBI, etc. are widely known and embedded in training data. For that reason it could look just as grounded as RAG, even if in reality it was pulling from general knowledge.\n",
        "\n",
        "Prompt-engineering encourages formatting/readability but doesn’t enforce citation. Also it received slightly lower scores.\n",
        "\n",
        "RAG is the only method that guarantees grounding + citation.\n",
        "\n",
        "**What we learned:**\n",
        "\n",
        "- Readability: Prompt-engineering improves clarity → professionals prefer structured answers (time windows, bullet points, headings).\n",
        "\n",
        "- Source citation: Only RAG can show where information comes from. This is critical in medicine (traceability, audit, clinical governance).\n",
        "\n",
        "- Consistency: Base LLM may “do well now” but offers no guarantees it will cite or stay aligned with evolving protocols.\n",
        "\n",
        "**Recommendations:**\n",
        "\n",
        "1. Adopt RAG as default for production, because:\n",
        "\n",
        "- It enforces alignment with your manual / guidelines, not just model’s memory.\n",
        "\n",
        "- Provides traceability → essential for clinical audit, liability, and adoption.\n",
        "\n",
        "- Easier to update → update the manual, re-embed, and your system reflects latest practice without waiting for a new model.\n",
        "\n",
        "2. Layer prompt-engineering on top of RAG:\n",
        "\n",
        "- Standardize format (e.g., “0–1h, 1–6h, 6–24h steps”).\n",
        "\n",
        "- Require citations inline → builds trust with professionals.\n",
        "\n",
        "- Add disclaimers (“general guidance, not individualized advice”).\n",
        "\n",
        "Future features to consider:\n",
        "Add more sources (local hospital protocols, WHO, specialty guidelines).\n",
        "\n",
        "Add a feedback loop: Allow clinicians to flag “unclear” or “missing” answers; feed that into prompt-engineering refinements.\n",
        "\n",
        "Resource management (rate limits, quatas, runtime, etc.) was the most challenging thing during this project. Therefore, resource allocation should be considered and managed ahead of time.\n"
      ]
    }
  ],
  "metadata": {
    "accelerator": "GPU",
    "colab": {
      "collapsed_sections": [
        "CARPKFwm6Bz4",
        "by9EvAnkSpZf"
      ],
      "gpuType": "T4",
      "provenance": []
    },
    "kernel_info": {
      "name": "python310-sdkv2"
    },
    "kernelspec": {
      "display_name": "Python 3",
      "name": "python3"
    },
    "language_info": {
      "name": "python"
    },
    "microsoft": {
      "host": {
        "AzureML": {
          "notebookHasBeenCompleted": true
        }
      },
      "ms_spell_check": {
        "ms_spell_check_language": "en"
      }
    },
    "nteract": {
      "version": "nteract-front-end@1.0.0"
    }
  },
  "nbformat": 4,
  "nbformat_minor": 0
}